{
  "nbformat": 4,
  "nbformat_minor": 0,
  "metadata": {
    "colab": {
      "name": "Final.ipynb",
      "provenance": [],
      "collapsed_sections": [],
      "toc_visible": true,
      "authorship_tag": "ABX9TyPQHTsWLSOYvvPdGmHvLpqp"
    },
    "kernelspec": {
      "name": "python3",
      "display_name": "Python 3"
    }
  },
  "cells": [
    {
      "cell_type": "markdown",
      "metadata": {
        "id": "SFKIbNtUjZdc"
      },
      "source": [
        "# COVID-19 in Academia"
      ]
    },
    {
      "cell_type": "markdown",
      "metadata": {
        "id": "qM7ZsTbbe_vc"
      },
      "source": [
        "# Preparation"
      ]
    },
    {
      "cell_type": "code",
      "metadata": {
        "id": "NyDEtvwlf4Fp"
      },
      "source": [
        "# install lucem_illud\n",
        "!pip install git+git://github.com/UChicago-Computational-Content-Analysis/lucem_illud.git"
      ],
      "execution_count": null,
      "outputs": []
    },
    {
      "cell_type": "code",
      "metadata": {
        "id": "aHYhP-Qffy91"
      },
      "source": [
        "#All these packages need to be installed from pip\n",
        "import gensim#For word2vec, etc\n",
        "from gensim.models import ldaseqmodel\n",
        "import requests #For downloading our datasets\n",
        "import lucem_illud #pip install -U git+git://github.com/UChicago-Computational-Content-Analysis/lucem_illud.git\n",
        "\n",
        "import numpy as np #For arrays\n",
        "import pandas #Gives us DataFrames\n",
        "import matplotlib.pyplot as plt #For graphics\n",
        "import seaborn #Makes the graphics look nicer\n",
        "import sklearn.metrics.pairwise #For cosine similarity\n",
        "import sklearn.manifold #For T-SNE\n",
        "import sklearn.decomposition #For PCA\n",
        "import sklearn.cluster\n",
        "\n",
        "import matplotlib.pyplot as plt #For graphics\n",
        "import matplotlib.cm #Still for graphics\n",
        "\n",
        "#This 'magic' command makes the plots work better\n",
        "#in the notebook, don't use it outside of a notebook.\n",
        "#Also you can ignore the warning\n",
        "%matplotlib inline\n",
        "\n",
        "import os #For looking through files\n",
        "import os.path #For managing file paths"
      ],
      "execution_count": 5,
      "outputs": []
    },
    {
      "cell_type": "code",
      "metadata": {
        "id": "F2l6RWTepJ_C"
      },
      "source": [
        "# import extra\n",
        "import gensim\n",
        "from textblob import TextBlob\n",
        "import scipy"
      ],
      "execution_count": 18,
      "outputs": []
    },
    {
      "cell_type": "code",
      "metadata": {
        "colab": {
          "base_uri": "https://localhost:8080/"
        },
        "id": "By0YwhNme-vd",
        "outputId": "383b6fef-74ec-438a-bf19-0dfcf8eab17e"
      },
      "source": [
        "# get papers\n",
        "temp_df = pandas.read_csv(\"/content/Papers_final.csv\")\n",
        "# delele NA years\n",
        "papers_df = temp_df.dropna(axis=0, how='any', subset=[\"year\"])\n",
        "# change year to int\n",
        "papers_df[\"year\"].astype(int)"
      ],
      "execution_count": 7,
      "outputs": [
        {
          "output_type": "execute_result",
          "data": {
            "text/plain": [
              "0       2021\n",
              "1       2021\n",
              "2       2021\n",
              "3       2021\n",
              "4       2021\n",
              "        ... \n",
              "1954    2019\n",
              "1955    2019\n",
              "1956    2019\n",
              "1957    2019\n",
              "1958    2019\n",
              "Name: year, Length: 1959, dtype: int64"
            ]
          },
          "metadata": {
            "tags": []
          },
          "execution_count": 7
        }
      ]
    },
    {
      "cell_type": "code",
      "metadata": {
        "colab": {
          "base_uri": "https://localhost:8080/",
          "height": 1000
        },
        "id": "owBp-TaDe8iL",
        "outputId": "1488a627-b892-49f8-f046-fb6aa7111d38"
      },
      "source": [
        "# get econ data\n",
        "from collections import defaultdict\n",
        "from pathlib import Path\n",
        "\n",
        "my_dir_path = \"/content/econ\"\n",
        "\n",
        "results = defaultdict(list)\n",
        "for file in Path(my_dir_path).iterdir():\n",
        "    with open(file, \"r\") as file_open:\n",
        "        results[\"file_name\"].append(file.name)\n",
        "        results[\"text\"].append(file_open.read())\n",
        "econ_df = pandas.DataFrame(results)\n",
        "econ_df"
      ],
      "execution_count": 8,
      "outputs": [
        {
          "output_type": "execute_result",
          "data": {
            "text/html": [
              "<div>\n",
              "<style scoped>\n",
              "    .dataframe tbody tr th:only-of-type {\n",
              "        vertical-align: middle;\n",
              "    }\n",
              "\n",
              "    .dataframe tbody tr th {\n",
              "        vertical-align: top;\n",
              "    }\n",
              "\n",
              "    .dataframe thead th {\n",
              "        text-align: right;\n",
              "    }\n",
              "</style>\n",
              "<table border=\"1\" class=\"dataframe\">\n",
              "  <thead>\n",
              "    <tr style=\"text-align: right;\">\n",
              "      <th></th>\n",
              "      <th>file_name</th>\n",
              "      <th>text</th>\n",
              "    </tr>\n",
              "  </thead>\n",
              "  <tbody>\n",
              "    <tr>\n",
              "      <th>0</th>\n",
              "      <td>019023-Polarization and Public Health- Partisa...</td>\n",
              "      <td>Polarization and Public Health: Partisan Diffe...</td>\n",
              "    </tr>\n",
              "    <tr>\n",
              "      <th>1</th>\n",
              "      <td>019059-Global Supply Chains in the Pandemic.txt</td>\n",
              "      <td>Global Supply Chains in the Pandemic*\\nBarthél...</td>\n",
              "    </tr>\n",
              "    <tr>\n",
              "      <th>2</th>\n",
              "      <td>019037-ECONOMIC UNCERTAINTY BEFORE AND DURING ...</td>\n",
              "      <td>NBER WORKING PAPER SERIES\\nECONOMIC UNCERTAINT...</td>\n",
              "    </tr>\n",
              "    <tr>\n",
              "      <th>3</th>\n",
              "      <td>019035-The Impact of COVID-19 on Student Exper...</td>\n",
              "      <td>NBER WORKING PAPER SERIES\\n\\nTHE IMPACT OF COV...</td>\n",
              "    </tr>\n",
              "    <tr>\n",
              "      <th>4</th>\n",
              "      <td>019051-How Did COVID-19 and Stabilization Poli...</td>\n",
              "      <td>NBER WORKING PAPER SERIES\\nHOW DID COVID-19 AN...</td>\n",
              "    </tr>\n",
              "    <tr>\n",
              "      <th>5</th>\n",
              "      <td>019034-Fatalism, Beliefs, And Behaviors During...</td>\n",
              "      <td>NBER WORKING PAPER SERIES\\n\\nFATALISM, BELIEFS...</td>\n",
              "    </tr>\n",
              "    <tr>\n",
              "      <th>6</th>\n",
              "      <td>019031-Aggregate and Firm-Level Stock Returns ...</td>\n",
              "      <td>NBER WORKING PAPER SERIES\\n\\nAGGREGATE AND FIR...</td>\n",
              "    </tr>\n",
              "    <tr>\n",
              "      <th>7</th>\n",
              "      <td>019025-The Macroeconomics of Epidemics.txt</td>\n",
              "      <td>NBER WORKING PAPER SERIES\\n\\nTHE MACROECONOMIC...</td>\n",
              "    </tr>\n",
              "    <tr>\n",
              "      <th>8</th>\n",
              "      <td>019043-Early Evidence on the Impact of COVID-1...</td>\n",
              "      <td>NBER WORKING PAPER SERIES\\n\\nEARLY EVIDENCE ON...</td>\n",
              "    </tr>\n",
              "    <tr>\n",
              "      <th>9</th>\n",
              "      <td>019032-An Seir Infectious Disease Model With T...</td>\n",
              "      <td>NBER WORKING PAPER SERIES\\n\\nAN SEIR INFECTIOU...</td>\n",
              "    </tr>\n",
              "    <tr>\n",
              "      <th>10</th>\n",
              "      <td>019015-The Impact of COVID-19 on Gender Equali...</td>\n",
              "      <td>The Impact of COVID-19 on Gender Equality∗\\nTi...</td>\n",
              "    </tr>\n",
              "    <tr>\n",
              "      <th>11</th>\n",
              "      <td>019049-Inequality in Household Adaptation to S...</td>\n",
              "      <td>NBER WORKING PAPER SERIES\\n\\nINEQUALITY IN HOU...</td>\n",
              "    </tr>\n",
              "    <tr>\n",
              "      <th>12</th>\n",
              "      <td>019021-Optimal Mitigation Policies in a Pandem...</td>\n",
              "      <td>NBER WORKING PAPER SERIES\\n\\nOPTIMAL MITIGATIO...</td>\n",
              "    </tr>\n",
              "    <tr>\n",
              "      <th>13</th>\n",
              "      <td>019009-Policy Implications of Models of the Sp...</td>\n",
              "      <td>NBER WORKING PAPER SERIES\\n\\nPOLICY IMPLICATIO...</td>\n",
              "    </tr>\n",
              "    <tr>\n",
              "      <th>14</th>\n",
              "      <td>019042-The rise of COVID-19 cases is associate...</td>\n",
              "      <td>The rise of COVID-19 cases is associated with ...</td>\n",
              "    </tr>\n",
              "    <tr>\n",
              "      <th>15</th>\n",
              "      <td>019027-What Will be the Economic Impact of COV...</td>\n",
              "      <td>NBER WORKING PAPER SERIES\\n\\nWHAT WILL BE THE ...</td>\n",
              "    </tr>\n",
              "    <tr>\n",
              "      <th>16</th>\n",
              "      <td>019039-COVID-19 AND REMOTE WORK AN EARLY LOOK ...</td>\n",
              "      <td>NBER WORKING PAPER SERIES\\n\\nCOVID-19 AND REMO...</td>\n",
              "    </tr>\n",
              "    <tr>\n",
              "      <th>17</th>\n",
              "      <td>019012-Determinants of Disparities in Covid-19...</td>\n",
              "      <td>NBER WORKING PAPER SERIES\\n\\nDETERMINANTS OF D...</td>\n",
              "    </tr>\n",
              "    <tr>\n",
              "      <th>18</th>\n",
              "      <td>019019-A Simple Planning Problem for COVID-19 ...</td>\n",
              "      <td>NBER WORKING PAPER SERIES\\n\\nA SIMPLE PLANNING...</td>\n",
              "    </tr>\n",
              "    <tr>\n",
              "      <th>19</th>\n",
              "      <td>019057-Implications of Heterogeneous SIR Model...</td>\n",
              "      <td>NBER WORKING PAPER SERIES\\n\\nIMPLICATIONS OF H...</td>\n",
              "    </tr>\n",
              "    <tr>\n",
              "      <th>20</th>\n",
              "      <td>019001-Covid 19 Testing Inequality in New York...</td>\n",
              "      <td>NBER WORKING PAPER SERIES\\n\\nCOVID-19: TESTING...</td>\n",
              "    </tr>\n",
              "    <tr>\n",
              "      <th>21</th>\n",
              "      <td>019020-Health VS Wealth Public health policies...</td>\n",
              "      <td>NBER WORKING PAPER SERIES\\n\\nHEALTH VS. WEALTH...</td>\n",
              "    </tr>\n",
              "    <tr>\n",
              "      <th>22</th>\n",
              "      <td>019046-The Effectiveness of Life-Preserving In...</td>\n",
              "      <td>NBER WORKING PAPER SERIES\\n\\nTHE EFFECTIVENESS...</td>\n",
              "    </tr>\n",
              "    <tr>\n",
              "      <th>23</th>\n",
              "      <td>019011-Global Behaviors and Perceptions at the...</td>\n",
              "      <td>NBER WORKING PAPER SERIES\\n\\nGLOBAL BEHAVIORS ...</td>\n",
              "    </tr>\n",
              "    <tr>\n",
              "      <th>24</th>\n",
              "      <td>019026-Controlling a Pandemic.txt</td>\n",
              "      <td>NBER WORKING PAPER SERIES\\n\\nCONTROLLING A PAN...</td>\n",
              "    </tr>\n",
              "    <tr>\n",
              "      <th>25</th>\n",
              "      <td>019003-Human Mobility Restrictions and the Spr...</td>\n",
              "      <td>NBER WORKING PAPER SERIES\\n\\nHUMAN MOBILITY RE...</td>\n",
              "    </tr>\n",
              "    <tr>\n",
              "      <th>26</th>\n",
              "      <td>019018-Optimal targeted lockdowns in a multi-g...</td>\n",
              "      <td>NBER WORKING PAPER SERIES\\n\\nOPTIMAL TARGETED ...</td>\n",
              "    </tr>\n",
              "    <tr>\n",
              "      <th>27</th>\n",
              "      <td>019036-Voluntary and Mandatory Social Distanci...</td>\n",
              "      <td>NBER WORKING PAPER SERIES\\n\\nVOLUNTARY AND MAN...</td>\n",
              "    </tr>\n",
              "    <tr>\n",
              "      <th>28</th>\n",
              "      <td>019008-COVID-Induced Economic Uncertainty.txt</td>\n",
              "      <td>NBER WORKING PAPER SERIES\\n\\nCOVID-INDUCED ECO...</td>\n",
              "    </tr>\n",
              "    <tr>\n",
              "      <th>29</th>\n",
              "      <td>019024-Corporate Hiring under COVID-19.txt</td>\n",
              "      <td>NBER WORKING PAPER SERIES\\n\\nCORPORATE HIRING ...</td>\n",
              "    </tr>\n",
              "    <tr>\n",
              "      <th>30</th>\n",
              "      <td>019029-Macroeconomic dynamics and reallocation...</td>\n",
              "      <td>NBER WORKING PAPER SERIES\\n\\nMACROECONOMIC DYN...</td>\n",
              "    </tr>\n",
              "    <tr>\n",
              "      <th>31</th>\n",
              "      <td>019038-SOCIAL DISTANCING AND SOCIAL CAPITAL.txt</td>\n",
              "      <td>NBER WORKING PAPER SERIES\\n\\nSOCIAL DISTANCING...</td>\n",
              "    </tr>\n",
              "    <tr>\n",
              "      <th>32</th>\n",
              "      <td>019005-The Geographic Spread of COVID-19 Corre...</td>\n",
              "      <td>NBER WORKING PAPER SERIES\\n\\nTHE GEOGRAPHIC SP...</td>\n",
              "    </tr>\n",
              "    <tr>\n",
              "      <th>33</th>\n",
              "      <td>019016-How does houselold spending respond to ...</td>\n",
              "      <td>NBER WORKING PAPER SERIES\\n\\nHOW DOES HOUSEHOL...</td>\n",
              "    </tr>\n",
              "    <tr>\n",
              "      <th>34</th>\n",
              "      <td>019033-Estimating the COVID-19 Infection Rate-...</td>\n",
              "      <td>NBER WORKING PAPER SERIES\\n\\nESTIMATING THE CO...</td>\n",
              "    </tr>\n",
              "    <tr>\n",
              "      <th>35</th>\n",
              "      <td>019030-Internal and External Effects of Social...</td>\n",
              "      <td>NBER WORKING PAPER SERIES\\n\\nINTERNAL AND EXTE...</td>\n",
              "    </tr>\n",
              "    <tr>\n",
              "      <th>36</th>\n",
              "      <td>019052-Racial and Ethnic Disparities in COVID-...</td>\n",
              "      <td>Journal of Economics, Race, and Policy (2020) ...</td>\n",
              "    </tr>\n",
              "    <tr>\n",
              "      <th>37</th>\n",
              "      <td>019007-The Unprecedented Stock Market Impact o...</td>\n",
              "      <td>NBER WORKING PAPER SERIES\\n\\nTHE UNPRECEDENTED...</td>\n",
              "    </tr>\n",
              "    <tr>\n",
              "      <th>38</th>\n",
              "      <td>019006-How Many Jobs Can be Done at Home.txt</td>\n",
              "      <td>NBER WORKING PAPER SERIES\\n\\nHOW MANY JOBS CAN...</td>\n",
              "    </tr>\n",
              "    <tr>\n",
              "      <th>39</th>\n",
              "      <td>019048-How Much does COVID-19 Increase with Mo...</td>\n",
              "      <td>NBER WORKING PAPER SERIES\\n\\nHOW MUCH DOES COV...</td>\n",
              "    </tr>\n",
              "    <tr>\n",
              "      <th>40</th>\n",
              "      <td>019014-Ambiguous Pollution Response to COVID-1...</td>\n",
              "      <td>NBER WORKING PAPER SERIES\\n\\nAMBIGUOUS POLLUTI...</td>\n",
              "    </tr>\n",
              "    <tr>\n",
              "      <th>41</th>\n",
              "      <td>019017-How valuable is financial flexibility w...</td>\n",
              "      <td>NBER WORKING PAPER SERIES\\n\\nHOW VALUABLE IS F...</td>\n",
              "    </tr>\n",
              "    <tr>\n",
              "      <th>42</th>\n",
              "      <td>019002-How Deadly Is COVID-19_ Understanding T...</td>\n",
              "      <td>NBER WORKING PAPER SERIES\\n\\nHOW DEADLY IS COV...</td>\n",
              "    </tr>\n",
              "    <tr>\n",
              "      <th>43</th>\n",
              "      <td>019053-Macroeconomic Implications of COVID-19.txt</td>\n",
              "      <td>NBER WORKING PAPER SERIES\\n\\nMACROECONOMIC IMP...</td>\n",
              "    </tr>\n",
              "    <tr>\n",
              "      <th>44</th>\n",
              "      <td>019013-The Adverse Effect of the COVID-19 Labo...</td>\n",
              "      <td>NBER WORKING PAPER SERIES\\n\\nTHE ADVERSE EFFEC...</td>\n",
              "    </tr>\n",
              "    <tr>\n",
              "      <th>45</th>\n",
              "      <td>019034-Sequential Lifting of COVID-19 Interven...</td>\n",
              "      <td>Sequential Lifting of COVID-19 Interventions w...</td>\n",
              "    </tr>\n",
              "    <tr>\n",
              "      <th>46</th>\n",
              "      <td>019028-COVID-19 Infection Externalities.txt</td>\n",
              "      <td>NBER WORKING PAPER SERIES\\n\\nCOVID-19 INFECTIO...</td>\n",
              "    </tr>\n",
              "    <tr>\n",
              "      <th>47</th>\n",
              "      <td>019045-COVID-19 and the Demand for Online Food...</td>\n",
              "      <td>NBER WORKING PAPER SERIES\\n\\nCOVID-19 AND THE ...</td>\n",
              "    </tr>\n",
              "    <tr>\n",
              "      <th>48</th>\n",
              "      <td>019044-US Unemployment insurance replacement r...</td>\n",
              "      <td>NBER WORKING PAPER SERIES\\n\\nUS UNEMPLOYMENT I...</td>\n",
              "    </tr>\n",
              "    <tr>\n",
              "      <th>49</th>\n",
              "      <td>019010-NBER, 2020 The Coronavirus and the Grea...</td>\n",
              "      <td>NBER WORKING PAPER SERIES\\n\\nTHE CORONAVIRUS A...</td>\n",
              "    </tr>\n",
              "    <tr>\n",
              "      <th>50</th>\n",
              "      <td>019033-The Cost of Privacy- Welfare Effect of ...</td>\n",
              "      <td>WORKING PAPER · NO. 2020-64\\n\\nThe Cost of Pri...</td>\n",
              "    </tr>\n",
              "    <tr>\n",
              "      <th>51</th>\n",
              "      <td>019022-The Impacts of COVID-19 on Minority Une...</td>\n",
              "      <td>NBER WORKING PAPER SERIES\\n\\nTHE IMPACTS OF CO...</td>\n",
              "    </tr>\n",
              "    <tr>\n",
              "      <th>52</th>\n",
              "      <td>019050-Tracking Public and Private Responses t...</td>\n",
              "      <td>NBER WORKING PAPER SERIES\\n\\nTRACKING PUBLIC A...</td>\n",
              "    </tr>\n",
              "    <tr>\n",
              "      <th>53</th>\n",
              "      <td>019004-Labor Markets COVID-19.txt</td>\n",
              "      <td>NBER WORKING PAPER SERIES\\n\\nLABOR MARKETS DUR...</td>\n",
              "    </tr>\n",
              "    <tr>\n",
              "      <th>54</th>\n",
              "      <td>019058-The Hammer and the Scalpel.txt</td>\n",
              "      <td>NBER WORKING PAPER SERIES\\n\\nTHE HAMMER AND TH...</td>\n",
              "    </tr>\n",
              "  </tbody>\n",
              "</table>\n",
              "</div>"
            ],
            "text/plain": [
              "                                            file_name                                               text\n",
              "0   019023-Polarization and Public Health- Partisa...  Polarization and Public Health: Partisan Diffe...\n",
              "1     019059-Global Supply Chains in the Pandemic.txt  Global Supply Chains in the Pandemic*\\nBarthél...\n",
              "2   019037-ECONOMIC UNCERTAINTY BEFORE AND DURING ...  NBER WORKING PAPER SERIES\\nECONOMIC UNCERTAINT...\n",
              "3   019035-The Impact of COVID-19 on Student Exper...  NBER WORKING PAPER SERIES\\n\\nTHE IMPACT OF COV...\n",
              "4   019051-How Did COVID-19 and Stabilization Poli...  NBER WORKING PAPER SERIES\\nHOW DID COVID-19 AN...\n",
              "5   019034-Fatalism, Beliefs, And Behaviors During...  NBER WORKING PAPER SERIES\\n\\nFATALISM, BELIEFS...\n",
              "6   019031-Aggregate and Firm-Level Stock Returns ...  NBER WORKING PAPER SERIES\\n\\nAGGREGATE AND FIR...\n",
              "7          019025-The Macroeconomics of Epidemics.txt  NBER WORKING PAPER SERIES\\n\\nTHE MACROECONOMIC...\n",
              "8   019043-Early Evidence on the Impact of COVID-1...  NBER WORKING PAPER SERIES\\n\\nEARLY EVIDENCE ON...\n",
              "9   019032-An Seir Infectious Disease Model With T...  NBER WORKING PAPER SERIES\\n\\nAN SEIR INFECTIOU...\n",
              "10  019015-The Impact of COVID-19 on Gender Equali...  The Impact of COVID-19 on Gender Equality∗\\nTi...\n",
              "11  019049-Inequality in Household Adaptation to S...  NBER WORKING PAPER SERIES\\n\\nINEQUALITY IN HOU...\n",
              "12  019021-Optimal Mitigation Policies in a Pandem...  NBER WORKING PAPER SERIES\\n\\nOPTIMAL MITIGATIO...\n",
              "13  019009-Policy Implications of Models of the Sp...  NBER WORKING PAPER SERIES\\n\\nPOLICY IMPLICATIO...\n",
              "14  019042-The rise of COVID-19 cases is associate...  The rise of COVID-19 cases is associated with ...\n",
              "15  019027-What Will be the Economic Impact of COV...  NBER WORKING PAPER SERIES\\n\\nWHAT WILL BE THE ...\n",
              "16  019039-COVID-19 AND REMOTE WORK AN EARLY LOOK ...  NBER WORKING PAPER SERIES\\n\\nCOVID-19 AND REMO...\n",
              "17  019012-Determinants of Disparities in Covid-19...  NBER WORKING PAPER SERIES\\n\\nDETERMINANTS OF D...\n",
              "18  019019-A Simple Planning Problem for COVID-19 ...  NBER WORKING PAPER SERIES\\n\\nA SIMPLE PLANNING...\n",
              "19  019057-Implications of Heterogeneous SIR Model...  NBER WORKING PAPER SERIES\\n\\nIMPLICATIONS OF H...\n",
              "20  019001-Covid 19 Testing Inequality in New York...  NBER WORKING PAPER SERIES\\n\\nCOVID-19: TESTING...\n",
              "21  019020-Health VS Wealth Public health policies...  NBER WORKING PAPER SERIES\\n\\nHEALTH VS. WEALTH...\n",
              "22  019046-The Effectiveness of Life-Preserving In...  NBER WORKING PAPER SERIES\\n\\nTHE EFFECTIVENESS...\n",
              "23  019011-Global Behaviors and Perceptions at the...  NBER WORKING PAPER SERIES\\n\\nGLOBAL BEHAVIORS ...\n",
              "24                  019026-Controlling a Pandemic.txt  NBER WORKING PAPER SERIES\\n\\nCONTROLLING A PAN...\n",
              "25  019003-Human Mobility Restrictions and the Spr...  NBER WORKING PAPER SERIES\\n\\nHUMAN MOBILITY RE...\n",
              "26  019018-Optimal targeted lockdowns in a multi-g...  NBER WORKING PAPER SERIES\\n\\nOPTIMAL TARGETED ...\n",
              "27  019036-Voluntary and Mandatory Social Distanci...  NBER WORKING PAPER SERIES\\n\\nVOLUNTARY AND MAN...\n",
              "28      019008-COVID-Induced Economic Uncertainty.txt  NBER WORKING PAPER SERIES\\n\\nCOVID-INDUCED ECO...\n",
              "29         019024-Corporate Hiring under COVID-19.txt  NBER WORKING PAPER SERIES\\n\\nCORPORATE HIRING ...\n",
              "30  019029-Macroeconomic dynamics and reallocation...  NBER WORKING PAPER SERIES\\n\\nMACROECONOMIC DYN...\n",
              "31    019038-SOCIAL DISTANCING AND SOCIAL CAPITAL.txt  NBER WORKING PAPER SERIES\\n\\nSOCIAL DISTANCING...\n",
              "32  019005-The Geographic Spread of COVID-19 Corre...  NBER WORKING PAPER SERIES\\n\\nTHE GEOGRAPHIC SP...\n",
              "33  019016-How does houselold spending respond to ...  NBER WORKING PAPER SERIES\\n\\nHOW DOES HOUSEHOL...\n",
              "34  019033-Estimating the COVID-19 Infection Rate-...  NBER WORKING PAPER SERIES\\n\\nESTIMATING THE CO...\n",
              "35  019030-Internal and External Effects of Social...  NBER WORKING PAPER SERIES\\n\\nINTERNAL AND EXTE...\n",
              "36  019052-Racial and Ethnic Disparities in COVID-...  Journal of Economics, Race, and Policy (2020) ...\n",
              "37  019007-The Unprecedented Stock Market Impact o...  NBER WORKING PAPER SERIES\\n\\nTHE UNPRECEDENTED...\n",
              "38       019006-How Many Jobs Can be Done at Home.txt  NBER WORKING PAPER SERIES\\n\\nHOW MANY JOBS CAN...\n",
              "39  019048-How Much does COVID-19 Increase with Mo...  NBER WORKING PAPER SERIES\\n\\nHOW MUCH DOES COV...\n",
              "40  019014-Ambiguous Pollution Response to COVID-1...  NBER WORKING PAPER SERIES\\n\\nAMBIGUOUS POLLUTI...\n",
              "41  019017-How valuable is financial flexibility w...  NBER WORKING PAPER SERIES\\n\\nHOW VALUABLE IS F...\n",
              "42  019002-How Deadly Is COVID-19_ Understanding T...  NBER WORKING PAPER SERIES\\n\\nHOW DEADLY IS COV...\n",
              "43  019053-Macroeconomic Implications of COVID-19.txt  NBER WORKING PAPER SERIES\\n\\nMACROECONOMIC IMP...\n",
              "44  019013-The Adverse Effect of the COVID-19 Labo...  NBER WORKING PAPER SERIES\\n\\nTHE ADVERSE EFFEC...\n",
              "45  019034-Sequential Lifting of COVID-19 Interven...  Sequential Lifting of COVID-19 Interventions w...\n",
              "46        019028-COVID-19 Infection Externalities.txt  NBER WORKING PAPER SERIES\\n\\nCOVID-19 INFECTIO...\n",
              "47  019045-COVID-19 and the Demand for Online Food...  NBER WORKING PAPER SERIES\\n\\nCOVID-19 AND THE ...\n",
              "48  019044-US Unemployment insurance replacement r...  NBER WORKING PAPER SERIES\\n\\nUS UNEMPLOYMENT I...\n",
              "49  019010-NBER, 2020 The Coronavirus and the Grea...  NBER WORKING PAPER SERIES\\n\\nTHE CORONAVIRUS A...\n",
              "50  019033-The Cost of Privacy- Welfare Effect of ...  WORKING PAPER · NO. 2020-64\\n\\nThe Cost of Pri...\n",
              "51  019022-The Impacts of COVID-19 on Minority Une...  NBER WORKING PAPER SERIES\\n\\nTHE IMPACTS OF CO...\n",
              "52  019050-Tracking Public and Private Responses t...  NBER WORKING PAPER SERIES\\n\\nTRACKING PUBLIC A...\n",
              "53                  019004-Labor Markets COVID-19.txt  NBER WORKING PAPER SERIES\\n\\nLABOR MARKETS DUR...\n",
              "54              019058-The Hammer and the Scalpel.txt  NBER WORKING PAPER SERIES\\n\\nTHE HAMMER AND TH..."
            ]
          },
          "metadata": {
            "tags": []
          },
          "execution_count": 8
        }
      ]
    },
    {
      "cell_type": "code",
      "metadata": {
        "colab": {
          "base_uri": "https://localhost:8080/",
          "height": 570
        },
        "id": "51Ye1VldhqqI",
        "outputId": "a067203e-215e-4a24-cd02-7bf0fcd7d30c"
      },
      "source": [
        "# get psych data\n",
        "from collections import defaultdict\n",
        "from pathlib import Path\n",
        "\n",
        "my_dir_path = \"/content/psych\"\n",
        "\n",
        "results = defaultdict(list)\n",
        "for file in Path(my_dir_path).iterdir():\n",
        "    with open(file, \"r\") as file_open:\n",
        "        results[\"file_name\"].append(file.name)\n",
        "        results[\"text\"].append(file_open.read())\n",
        "psych_df = pandas.DataFrame(results)\n",
        "psych_df"
      ],
      "execution_count": 9,
      "outputs": [
        {
          "output_type": "execute_result",
          "data": {
            "text/html": [
              "<div>\n",
              "<style scoped>\n",
              "    .dataframe tbody tr th:only-of-type {\n",
              "        vertical-align: middle;\n",
              "    }\n",
              "\n",
              "    .dataframe tbody tr th {\n",
              "        vertical-align: top;\n",
              "    }\n",
              "\n",
              "    .dataframe thead th {\n",
              "        text-align: right;\n",
              "    }\n",
              "</style>\n",
              "<table border=\"1\" class=\"dataframe\">\n",
              "  <thead>\n",
              "    <tr style=\"text-align: right;\">\n",
              "      <th></th>\n",
              "      <th>file_name</th>\n",
              "      <th>text</th>\n",
              "    </tr>\n",
              "  </thead>\n",
              "  <tbody>\n",
              "    <tr>\n",
              "      <th>0</th>\n",
              "      <td>Changes to the Work–Family Interface During th...</td>\n",
              "      <td>Journal of Applied Psychology\\n© 2020 American...</td>\n",
              "    </tr>\n",
              "    <tr>\n",
              "      <th>1</th>\n",
              "      <td>Economic Stressors and the Enactment of CDC-Re...</td>\n",
              "      <td>Journal of Applied Psychology\\n© 2020 American...</td>\n",
              "    </tr>\n",
              "    <tr>\n",
              "      <th>2</th>\n",
              "      <td>Working in a Pandemic.txt</td>\n",
              "      <td>Journal of Applied Psychology\\n© 2020 American...</td>\n",
              "    </tr>\n",
              "    <tr>\n",
              "      <th>3</th>\n",
              "      <td>Anxiety Responses to the Unfolding COVID-19 Cr...</td>\n",
              "      <td>Journal of Applied Psychology\\n© 2020 American...</td>\n",
              "    </tr>\n",
              "    <tr>\n",
              "      <th>4</th>\n",
              "      <td>When There is a Will There is a Way.txt</td>\n",
              "      <td>Journal of Applied Psychology\\nWhen There is a...</td>\n",
              "    </tr>\n",
              "    <tr>\n",
              "      <th>5</th>\n",
              "      <td>The Mind, the Heart, and the Leader in Times o...</td>\n",
              "      <td>Journal of Applied Psychology\\n© 2020 American...</td>\n",
              "    </tr>\n",
              "    <tr>\n",
              "      <th>6</th>\n",
              "      <td>Supporting Interdependent Telework Employees.txt</td>\n",
              "      <td>Journal of Applied Psychology\\n© 2020 American...</td>\n",
              "    </tr>\n",
              "    <tr>\n",
              "      <th>7</th>\n",
              "      <td>How Critical Activities Within COVID-19 Intens...</td>\n",
              "      <td>Journal of Applied Psychology\\n© 2020 American...</td>\n",
              "    </tr>\n",
              "    <tr>\n",
              "      <th>8</th>\n",
              "      <td>Tackling the Negative Impact of COVID-19 on Wo...</td>\n",
              "      <td>Journal of Applied Psychology\\nTackling the Ne...</td>\n",
              "    </tr>\n",
              "    <tr>\n",
              "      <th>9</th>\n",
              "      <td>Socioeconomic Status and Well-Being During COV...</td>\n",
              "      <td>Journal of Applied Psychology\\n© 2020 American...</td>\n",
              "    </tr>\n",
              "    <tr>\n",
              "      <th>10</th>\n",
              "      <td>From Zero to Hero.txt</td>\n",
              "      <td>Journal of Applied Psychology\\n© 2020 American...</td>\n",
              "    </tr>\n",
              "    <tr>\n",
              "      <th>11</th>\n",
              "      <td>Autonomy Restoration During a Global Pandemic.txt</td>\n",
              "      <td>Journal of Applied Psychology\\n© 2020 American...</td>\n",
              "    </tr>\n",
              "    <tr>\n",
              "      <th>12</th>\n",
              "      <td>When Helping Hurts COVID-19 Critical Incident ...</td>\n",
              "      <td>Journal of Applied Psychology\\n© 2020 American...</td>\n",
              "    </tr>\n",
              "    <tr>\n",
              "      <th>13</th>\n",
              "      <td>Impact of the COVID-19 Pandemic on Job Search ...</td>\n",
              "      <td>Journal of Applied Psychology\\n© 2020 American...</td>\n",
              "    </tr>\n",
              "    <tr>\n",
              "      <th>14</th>\n",
              "      <td>Plug Back Into Work, Safely Job Reattachment, ...</td>\n",
              "      <td>Journal of Applied Psychology\\n© 2020 American...</td>\n",
              "    </tr>\n",
              "    <tr>\n",
              "      <th>15</th>\n",
              "      <td>Women’s Leadership Is Associated With Fewer De...</td>\n",
              "      <td>Journal of Applied Psychology\\n© 2020 American...</td>\n",
              "    </tr>\n",
              "    <tr>\n",
              "      <th>16</th>\n",
              "      <td>Work-Family Strategies During COVID-19 Examini...</td>\n",
              "      <td>Journal of Applied Psychology\\n© 2020 American...</td>\n",
              "    </tr>\n",
              "  </tbody>\n",
              "</table>\n",
              "</div>"
            ],
            "text/plain": [
              "                                            file_name                                               text\n",
              "0   Changes to the Work–Family Interface During th...  Journal of Applied Psychology\\n© 2020 American...\n",
              "1   Economic Stressors and the Enactment of CDC-Re...  Journal of Applied Psychology\\n© 2020 American...\n",
              "2                           Working in a Pandemic.txt  Journal of Applied Psychology\\n© 2020 American...\n",
              "3   Anxiety Responses to the Unfolding COVID-19 Cr...  Journal of Applied Psychology\\n© 2020 American...\n",
              "4             When There is a Will There is a Way.txt  Journal of Applied Psychology\\nWhen There is a...\n",
              "5   The Mind, the Heart, and the Leader in Times o...  Journal of Applied Psychology\\n© 2020 American...\n",
              "6    Supporting Interdependent Telework Employees.txt  Journal of Applied Psychology\\n© 2020 American...\n",
              "7   How Critical Activities Within COVID-19 Intens...  Journal of Applied Psychology\\n© 2020 American...\n",
              "8   Tackling the Negative Impact of COVID-19 on Wo...  Journal of Applied Psychology\\nTackling the Ne...\n",
              "9   Socioeconomic Status and Well-Being During COV...  Journal of Applied Psychology\\n© 2020 American...\n",
              "10                              From Zero to Hero.txt  Journal of Applied Psychology\\n© 2020 American...\n",
              "11  Autonomy Restoration During a Global Pandemic.txt  Journal of Applied Psychology\\n© 2020 American...\n",
              "12  When Helping Hurts COVID-19 Critical Incident ...  Journal of Applied Psychology\\n© 2020 American...\n",
              "13  Impact of the COVID-19 Pandemic on Job Search ...  Journal of Applied Psychology\\n© 2020 American...\n",
              "14  Plug Back Into Work, Safely Job Reattachment, ...  Journal of Applied Psychology\\n© 2020 American...\n",
              "15  Women’s Leadership Is Associated With Fewer De...  Journal of Applied Psychology\\n© 2020 American...\n",
              "16  Work-Family Strategies During COVID-19 Examini...  Journal of Applied Psychology\\n© 2020 American..."
            ]
          },
          "metadata": {
            "tags": []
          },
          "execution_count": 9
        }
      ]
    },
    {
      "cell_type": "code",
      "metadata": {
        "colab": {
          "base_uri": "https://localhost:8080/",
          "height": 415
        },
        "id": "DShWrVwli64y",
        "outputId": "487906b5-282e-42cf-e61d-f15dc950a70a"
      },
      "source": [
        "# combine econ and psych\n",
        "full_df = pandas.concat([econ_df,psych_df])\n",
        "full_df"
      ],
      "execution_count": 10,
      "outputs": [
        {
          "output_type": "execute_result",
          "data": {
            "text/html": [
              "<div>\n",
              "<style scoped>\n",
              "    .dataframe tbody tr th:only-of-type {\n",
              "        vertical-align: middle;\n",
              "    }\n",
              "\n",
              "    .dataframe tbody tr th {\n",
              "        vertical-align: top;\n",
              "    }\n",
              "\n",
              "    .dataframe thead th {\n",
              "        text-align: right;\n",
              "    }\n",
              "</style>\n",
              "<table border=\"1\" class=\"dataframe\">\n",
              "  <thead>\n",
              "    <tr style=\"text-align: right;\">\n",
              "      <th></th>\n",
              "      <th>file_name</th>\n",
              "      <th>text</th>\n",
              "    </tr>\n",
              "  </thead>\n",
              "  <tbody>\n",
              "    <tr>\n",
              "      <th>0</th>\n",
              "      <td>019023-Polarization and Public Health- Partisa...</td>\n",
              "      <td>Polarization and Public Health: Partisan Diffe...</td>\n",
              "    </tr>\n",
              "    <tr>\n",
              "      <th>1</th>\n",
              "      <td>019059-Global Supply Chains in the Pandemic.txt</td>\n",
              "      <td>Global Supply Chains in the Pandemic*\\nBarthél...</td>\n",
              "    </tr>\n",
              "    <tr>\n",
              "      <th>2</th>\n",
              "      <td>019037-ECONOMIC UNCERTAINTY BEFORE AND DURING ...</td>\n",
              "      <td>NBER WORKING PAPER SERIES\\nECONOMIC UNCERTAINT...</td>\n",
              "    </tr>\n",
              "    <tr>\n",
              "      <th>3</th>\n",
              "      <td>019035-The Impact of COVID-19 on Student Exper...</td>\n",
              "      <td>NBER WORKING PAPER SERIES\\n\\nTHE IMPACT OF COV...</td>\n",
              "    </tr>\n",
              "    <tr>\n",
              "      <th>4</th>\n",
              "      <td>019051-How Did COVID-19 and Stabilization Poli...</td>\n",
              "      <td>NBER WORKING PAPER SERIES\\nHOW DID COVID-19 AN...</td>\n",
              "    </tr>\n",
              "    <tr>\n",
              "      <th>...</th>\n",
              "      <td>...</td>\n",
              "      <td>...</td>\n",
              "    </tr>\n",
              "    <tr>\n",
              "      <th>12</th>\n",
              "      <td>When Helping Hurts COVID-19 Critical Incident ...</td>\n",
              "      <td>Journal of Applied Psychology\\n© 2020 American...</td>\n",
              "    </tr>\n",
              "    <tr>\n",
              "      <th>13</th>\n",
              "      <td>Impact of the COVID-19 Pandemic on Job Search ...</td>\n",
              "      <td>Journal of Applied Psychology\\n© 2020 American...</td>\n",
              "    </tr>\n",
              "    <tr>\n",
              "      <th>14</th>\n",
              "      <td>Plug Back Into Work, Safely Job Reattachment, ...</td>\n",
              "      <td>Journal of Applied Psychology\\n© 2020 American...</td>\n",
              "    </tr>\n",
              "    <tr>\n",
              "      <th>15</th>\n",
              "      <td>Women’s Leadership Is Associated With Fewer De...</td>\n",
              "      <td>Journal of Applied Psychology\\n© 2020 American...</td>\n",
              "    </tr>\n",
              "    <tr>\n",
              "      <th>16</th>\n",
              "      <td>Work-Family Strategies During COVID-19 Examini...</td>\n",
              "      <td>Journal of Applied Psychology\\n© 2020 American...</td>\n",
              "    </tr>\n",
              "  </tbody>\n",
              "</table>\n",
              "<p>72 rows × 2 columns</p>\n",
              "</div>"
            ],
            "text/plain": [
              "                                            file_name                                               text\n",
              "0   019023-Polarization and Public Health- Partisa...  Polarization and Public Health: Partisan Diffe...\n",
              "1     019059-Global Supply Chains in the Pandemic.txt  Global Supply Chains in the Pandemic*\\nBarthél...\n",
              "2   019037-ECONOMIC UNCERTAINTY BEFORE AND DURING ...  NBER WORKING PAPER SERIES\\nECONOMIC UNCERTAINT...\n",
              "3   019035-The Impact of COVID-19 on Student Exper...  NBER WORKING PAPER SERIES\\n\\nTHE IMPACT OF COV...\n",
              "4   019051-How Did COVID-19 and Stabilization Poli...  NBER WORKING PAPER SERIES\\nHOW DID COVID-19 AN...\n",
              "..                                                ...                                                ...\n",
              "12  When Helping Hurts COVID-19 Critical Incident ...  Journal of Applied Psychology\\n© 2020 American...\n",
              "13  Impact of the COVID-19 Pandemic on Job Search ...  Journal of Applied Psychology\\n© 2020 American...\n",
              "14  Plug Back Into Work, Safely Job Reattachment, ...  Journal of Applied Psychology\\n© 2020 American...\n",
              "15  Women’s Leadership Is Associated With Fewer De...  Journal of Applied Psychology\\n© 2020 American...\n",
              "16  Work-Family Strategies During COVID-19 Examini...  Journal of Applied Psychology\\n© 2020 American...\n",
              "\n",
              "[72 rows x 2 columns]"
            ]
          },
          "metadata": {
            "tags": []
          },
          "execution_count": 10
        }
      ]
    },
    {
      "cell_type": "code",
      "metadata": {
        "id": "H8kpss8siBzs"
      },
      "source": [
        "# tokenization\n",
        "full_df['tokenized_sents'] = full_df['text'].apply(lambda x: [lucem_illud.word_tokenize(s) for s in lucem_illud.sent_tokenize(x)])\n",
        "# lemma\n",
        "full_df['normalized_sents'] = full_df['tokenized_sents'].apply(lambda x: [lucem_illud.normalizeTokens(s, lemma=True) for s in x])\n",
        "\n",
        "full_df['tokenized_text'] = full_df['text'].apply(lambda x: lucem_illud.word_tokenize(x))\n",
        "full_df['normalized_tokens'] = full_df['tokenized_text'].apply(lambda x: lucem_illud.normalizeTokens(x))"
      ],
      "execution_count": 11,
      "outputs": []
    },
    {
      "cell_type": "code",
      "metadata": {
        "id": "m51gVeGecXiN"
      },
      "source": [
        "full_df"
      ],
      "execution_count": null,
      "outputs": []
    },
    {
      "cell_type": "code",
      "metadata": {
        "id": "Bsl0UaG3kUHP"
      },
      "source": [
        "# tokenization\n",
        "papers_df['tokenized_sents'] = papers_df['text'].apply(lambda x: [lucem_illud.word_tokenize(s) for s in lucem_illud.sent_tokenize(x)])\n",
        "# lemma\n",
        "papers_df['normalized_sents'] = papers_df['tokenized_sents'].apply(lambda x: [lucem_illud.normalizeTokens(s, lemma=True) for s in x])\n",
        "\n",
        "papers_df['tokenized_text'] = papers_df['text'].apply(lambda x: lucem_illud.word_tokenize(x))\n",
        "papers_df['normalized_tokens'] = papers_df['tokenized_text'].apply(lambda x: lucem_illud.normalizeTokens(x))"
      ],
      "execution_count": null,
      "outputs": []
    },
    {
      "cell_type": "code",
      "metadata": {
        "id": "YYcR4bdpkewv"
      },
      "source": [
        "papers_df"
      ],
      "execution_count": null,
      "outputs": []
    },
    {
      "cell_type": "markdown",
      "metadata": {
        "id": "9MJC5K1JkNFg"
      },
      "source": [
        "# KL Divergence\n"
      ]
    },
    {
      "cell_type": "code",
      "metadata": {
        "colab": {
          "base_uri": "https://localhost:8080/"
        },
        "id": "U6_nhC7dkegm",
        "outputId": "1b1bca79-e004-4eb6-8156-c7329b5c3373"
      },
      "source": [
        "# remove overlap\n",
        "fullWords = set(full_df['normalized_tokens'].sum())\n",
        "papersWords = set(papers_df['normalized_tokens'].sum())\n",
        "\n",
        "#Change & to | if you want to keep all words\n",
        "overlapWords = fullWords & papersWords\n",
        "\n",
        "overlapWordsDict = {word: index for index, word in enumerate(overlapWords)}\n",
        "overlapWordsDict['work']"
      ],
      "execution_count": 13,
      "outputs": [
        {
          "output_type": "execute_result",
          "data": {
            "text/plain": [
              "666"
            ]
          },
          "metadata": {
            "tags": []
          },
          "execution_count": 13
        }
      ]
    },
    {
      "cell_type": "code",
      "metadata": {
        "id": "GheFLnwUo2Nz"
      },
      "source": [
        "def makeProbsArray(dfColumn, overlapDict):\n",
        "    words = dfColumn.sum()\n",
        "    countList = [0] * len(overlapDict)\n",
        "    for word in words:\n",
        "        try:\n",
        "            countList[overlapDict[word]] += 1\n",
        "        except KeyError:\n",
        "            #The word is not common so we skip it\n",
        "            pass\n",
        "    countArray = np.array(countList)\n",
        "    return countArray / countArray.sum()"
      ],
      "execution_count": 15,
      "outputs": []
    },
    {
      "cell_type": "code",
      "metadata": {
        "colab": {
          "base_uri": "https://localhost:8080/"
        },
        "id": "iut8a6cwosI2",
        "outputId": "b05d46c6-bf06-4e05-bc5c-1499ab8ef26f"
      },
      "source": [
        "fullProbArray = makeProbsArray(full_df['normalized_tokens'], overlapWordsDict)\n",
        "papersProbArray = makeProbsArray(papers_df['normalized_tokens'], overlapWordsDict)\n",
        "papersProbArray.sum()"
      ],
      "execution_count": 16,
      "outputs": [
        {
          "output_type": "execute_result",
          "data": {
            "text/plain": [
              "1.0"
            ]
          },
          "metadata": {
            "tags": []
          },
          "execution_count": 16
        }
      ]
    },
    {
      "cell_type": "code",
      "metadata": {
        "colab": {
          "base_uri": "https://localhost:8080/"
        },
        "id": "vOk3_yQco4BV",
        "outputId": "b1402926-c080-4fc6-c165-3740fa4cc501"
      },
      "source": [
        "# KL convergence\n",
        "social_naturalDivergence = scipy.stats.entropy(fullProbArray, papersProbArray)\n",
        "print (social_naturalDivergence)\n",
        "natural_socialDivergence = scipy.stats.entropy(papersProbArray, fullProbArray)\n",
        "print (natural_socialDivergence)"
      ],
      "execution_count": 24,
      "outputs": [
        {
          "output_type": "stream",
          "text": [
            "1.0003624288133506\n",
            "1.0638245866284137\n"
          ],
          "name": "stdout"
        }
      ]
    },
    {
      "cell_type": "markdown",
      "metadata": {
        "id": "-eJXtZVpjfWF"
      },
      "source": [
        "# Word2Vec"
      ]
    },
    {
      "cell_type": "markdown",
      "metadata": {
        "id": "CPu1LXMeZ0AL"
      },
      "source": [
        "## Social Science"
      ]
    },
    {
      "cell_type": "code",
      "metadata": {
        "id": "O3yDlwIHkO28"
      },
      "source": [
        "fullW2V = gensim.models.word2vec.Word2Vec(full_df['normalized_sents'].sum())"
      ],
      "execution_count": 13,
      "outputs": []
    },
    {
      "cell_type": "code",
      "metadata": {
        "colab": {
          "base_uri": "https://localhost:8080/"
        },
        "id": "KGEK1yLF8_W6",
        "outputId": "7af9c9f2-c741-4556-a7c0-d663847084b7"
      },
      "source": [
        "fullW2V.most_similar('president')"
      ],
      "execution_count": 70,
      "outputs": [
        {
          "output_type": "execute_result",
          "data": {
            "text/plain": [
              "[('november', 0.9819780588150024),\n",
              " ('september', 0.9787055253982544),\n",
              " ('arkansas', 0.9778821468353271),\n",
              " ('la', 0.976869523525238),\n",
              " ('october', 0.9767385125160217),\n",
              " ('hawaii', 0.9765076637268066),\n",
              " ('24th', 0.9749261140823364),\n",
              " ('louisiana', 0.9748409986495972),\n",
              " ('gretchen', 0.9747686386108398),\n",
              " ('carolina', 0.9740902185440063)]"
            ]
          },
          "metadata": {
            "tags": []
          },
          "execution_count": 70
        }
      ]
    },
    {
      "cell_type": "code",
      "metadata": {
        "colab": {
          "base_uri": "https://localhost:8080/"
        },
        "id": "c1yvCcFmkVSm",
        "outputId": "806dbfd4-91aa-41db-e4a2-4cd08aa44b52"
      },
      "source": [
        "fullW2V.most_similar('covid-19')"
      ],
      "execution_count": 14,
      "outputs": [
        {
          "output_type": "execute_result",
          "data": {
            "text/plain": [
              "[('outbreak', 0.849372386932373),\n",
              " ('influenza', 0.8349153995513916),\n",
              " ('pandemic', 0.8320005536079407),\n",
              " ('corona', 0.8232523202896118),\n",
              " ('covid19', 0.8178908824920654),\n",
              " ('spanish', 0.811830997467041),\n",
              " ('coronavirus', 0.8107658624649048),\n",
              " ('response', 0.80597984790802),\n",
              " ('novel', 0.8049942255020142),\n",
              " ('covid', 0.800186038017273)]"
            ]
          },
          "metadata": {
            "tags": []
          },
          "execution_count": 14
        }
      ]
    },
    {
      "cell_type": "code",
      "metadata": {
        "colab": {
          "base_uri": "https://localhost:8080/"
        },
        "id": "5-pWb4XqkYvC",
        "outputId": "9d11995d-ebca-455b-b9af-bd554b479129"
      },
      "source": [
        "fullW2V.most_similar('vaccine')"
      ],
      "execution_count": 15,
      "outputs": [
        {
          "output_type": "execute_result",
          "data": {
            "text/plain": [
              "[('infectiousness', 0.9439640045166016),\n",
              " ('effective', 0.9404677152633667),\n",
              " ('cure', 0.9244608283042908),\n",
              " ('know', 0.9193854331970215),\n",
              " ('extreme', 0.9165095686912537),\n",
              " ('quarantine', 0.9129801392555237),\n",
              " ('isolation', 0.9125193357467651),\n",
              " ('trace', 0.9110430479049683),\n",
              " ('lockdowns', 0.9108986258506775),\n",
              " ('contract', 0.9098805785179138)]"
            ]
          },
          "metadata": {
            "tags": []
          },
          "execution_count": 15
        }
      ]
    },
    {
      "cell_type": "code",
      "metadata": {
        "colab": {
          "base_uri": "https://localhost:8080/"
        },
        "id": "EPfhThxukc9v",
        "outputId": "2fad9cc1-3cbf-4dfd-b3bd-048581093d0d"
      },
      "source": [
        "fullW2V.most_similar('treatment')"
      ],
      "execution_count": 16,
      "outputs": [
        {
          "output_type": "execute_result",
          "data": {
            "text/plain": [
              "[('belief', 0.9609736800193787),\n",
              " ('vary', 0.9371767640113831),\n",
              " ('differential', 0.9222626686096191),\n",
              " ('interpret', 0.9134619235992432),\n",
              " ('additional', 0.9041493535041809),\n",
              " ('differ', 0.9014716148376465),\n",
              " ('overall', 0.8998055458068848),\n",
              " ('scenario', 0.8960479497909546),\n",
              " ('hold', 0.8951650857925415),\n",
              " ('trajectory', 0.8904632329940796)]"
            ]
          },
          "metadata": {
            "tags": []
          },
          "execution_count": 16
        }
      ]
    },
    {
      "cell_type": "code",
      "metadata": {
        "colab": {
          "base_uri": "https://localhost:8080/"
        },
        "id": "ThbVay7SkiK1",
        "outputId": "a860d72c-8199-422d-c9ec-77395e82f2a0"
      },
      "source": [
        "fullW2V.most_similar('china')"
      ],
      "execution_count": 17,
      "outputs": [
        {
          "output_type": "execute_result",
          "data": {
            "text/plain": [
              "[('epicenter', 0.9148597717285156),\n",
              " ('2019-ncov', 0.9146484136581421),\n",
              " ('italy', 0.9090564250946045),\n",
              " ('outbreak', 0.908423900604248),\n",
              " ('coivd-19', 0.8972347974777222),\n",
              " ('corona', 0.8589129447937012),\n",
              " ('wuhan', 0.8528329730033875),\n",
              " ('worldwide', 0.8503612279891968),\n",
              " ('coronavirus', 0.8499854803085327),\n",
              " ('novel', 0.8499071002006531)]"
            ]
          },
          "metadata": {
            "tags": []
          },
          "execution_count": 17
        }
      ]
    },
    {
      "cell_type": "code",
      "metadata": {
        "colab": {
          "base_uri": "https://localhost:8080/"
        },
        "id": "0pMxMzmXkqoR",
        "outputId": "9df7900a-5e0b-4c43-98da-3a7a8dc227a5"
      },
      "source": [
        "fullW2V.most_similar('america')"
      ],
      "execution_count": 18,
      "outputs": [
        {
          "output_type": "execute_result",
          "data": {
            "text/plain": [
              "[('warn', 0.9778646230697632),\n",
              " ('september', 0.9714869856834412),\n",
              " ('japan', 0.9712555408477783),\n",
              " ('france', 0.9693090915679932),\n",
              " ('germany', 0.9680418372154236),\n",
              " ('oklahoma', 0.9666305780410767),\n",
              " ('6', 0.9656875133514404),\n",
              " ('president', 0.9641669988632202),\n",
              " ('alabama', 0.9641361236572266),\n",
              " ('russia', 0.9635642766952515)]"
            ]
          },
          "metadata": {
            "tags": []
          },
          "execution_count": 18
        }
      ]
    },
    {
      "cell_type": "code",
      "metadata": {
        "colab": {
          "base_uri": "https://localhost:8080/"
        },
        "id": "FyCT7N8Okumy",
        "outputId": "f3009d68-a2a2-4f6e-c99e-c5b5ddbf3ec6"
      },
      "source": [
        "fullW2V.most_similar('state')"
      ],
      "execution_count": 22,
      "outputs": [
        {
          "output_type": "execute_result",
          "data": {
            "text/plain": [
              "[('kingdom', 0.8280285596847534),\n",
              " ('unite', 0.7875370979309082),\n",
              " ('county', 0.7582467794418335),\n",
              " ('reopen', 0.7544432878494263),\n",
              " ('governor', 0.7512765526771545),\n",
              " ('steady', 0.748540997505188),\n",
              " ('nation', 0.7378343343734741),\n",
              " ('country', 0.7249220013618469),\n",
              " ('declaration', 0.7214992046356201),\n",
              " ('resuscitation', 0.7055197954177856)]"
            ]
          },
          "metadata": {
            "tags": []
          },
          "execution_count": 22
        }
      ]
    },
    {
      "cell_type": "code",
      "metadata": {
        "colab": {
          "base_uri": "https://localhost:8080/"
        },
        "id": "s7ZWFYKKlJsD",
        "outputId": "3316c611-b5c4-4211-83d0-caa7691d0d32"
      },
      "source": [
        "fullW2V.most_similar('people')"
      ],
      "execution_count": 23,
      "outputs": [
        {
          "output_type": "execute_result",
          "data": {
            "text/plain": [
              "[('require', 0.8840236067771912),\n",
              " ('individual', 0.8774884939193726),\n",
              " ('avoid', 0.8753497004508972),\n",
              " ('get', 0.8668035864830017),\n",
              " ('isolate', 0.8601580858230591),\n",
              " ('infect', 0.8601499795913696),\n",
              " ('meet', 0.8599317073822021),\n",
              " ('sick', 0.8542327284812927),\n",
              " ('know', 0.8538702130317688),\n",
              " ('asymptomatic', 0.8528835773468018)]"
            ]
          },
          "metadata": {
            "tags": []
          },
          "execution_count": 23
        }
      ]
    },
    {
      "cell_type": "code",
      "metadata": {
        "colab": {
          "base_uri": "https://localhost:8080/"
        },
        "id": "SQteQm-wlXgN",
        "outputId": "79367d9a-61e9-4e13-de40-01378f00aafe"
      },
      "source": [
        "fullW2V.most_similar('worker')"
      ],
      "execution_count": 24,
      "outputs": [
        {
          "output_type": "execute_result",
          "data": {
            "text/plain": [
              "[('child', 0.9048381447792053),\n",
              " ('member', 0.8561595678329468),\n",
              " ('employ', 0.8439839482307434),\n",
              " ('household', 0.8243786692619324),\n",
              " ('live', 0.8202165365219116),\n",
              " ('likely', 0.8187476396560669),\n",
              " ('essential', 0.7989829778671265),\n",
              " ('sale', 0.7958325743675232),\n",
              " ('couple', 0.7945008277893066),\n",
              " ('lose', 0.7865341901779175)]"
            ]
          },
          "metadata": {
            "tags": []
          },
          "execution_count": 24
        }
      ]
    },
    {
      "cell_type": "code",
      "metadata": {
        "colab": {
          "base_uri": "https://localhost:8080/"
        },
        "id": "xNXLPlIeGNrm",
        "outputId": "22dc8ed1-5c77-45ff-d665-9b8ed346d978"
      },
      "source": [
        "fullW2V.most_similar('job')"
      ],
      "execution_count": 71,
      "outputs": [
        {
          "output_type": "execute_result",
          "data": {
            "text/plain": [
              "[('performance', 0.7767320871353149),\n",
              " ('perform', 0.7687323093414307),\n",
              " ('task', 0.7589665055274963),\n",
              " ('student', 0.7334562540054321),\n",
              " ('experience', 0.7280638217926025),\n",
              " ('insecurity', 0.7277714014053345),\n",
              " ('couple', 0.7221989631652832),\n",
              " ('woman', 0.7134095430374146),\n",
              " ('skill', 0.7128334045410156),\n",
              " ('workplace', 0.7101960778236389)]"
            ]
          },
          "metadata": {
            "tags": []
          },
          "execution_count": 71
        }
      ]
    },
    {
      "cell_type": "code",
      "metadata": {
        "colab": {
          "base_uri": "https://localhost:8080/"
        },
        "id": "voNQkp9YlaGV",
        "outputId": "43620d20-54e1-4237-f5ed-bb8b789b6e9f"
      },
      "source": [
        "fullW2V.most_similar('leader')"
      ],
      "execution_count": 25,
      "outputs": [
        {
          "output_type": "execute_result",
          "data": {
            "text/plain": [
              "[('commitment', 0.9728037714958191),\n",
              " ('indirectly', 0.9477722644805908),\n",
              " ('knowledge', 0.944723904132843),\n",
              " ('safety', 0.9422106742858887),\n",
              " ('contribute', 0.9403423070907593),\n",
              " ('exacerbate', 0.9397084712982178),\n",
              " ('progress', 0.9394020438194275),\n",
              " ('goal', 0.9372594356536865),\n",
              " ('regulation', 0.9357172846794128),\n",
              " ('potential', 0.9339116811752319)]"
            ]
          },
          "metadata": {
            "tags": []
          },
          "execution_count": 25
        }
      ]
    },
    {
      "cell_type": "code",
      "metadata": {
        "colab": {
          "base_uri": "https://localhost:8080/"
        },
        "id": "g2CkMMsble1u",
        "outputId": "c3dae2ad-85fa-421c-8232-fb28b671023c"
      },
      "source": [
        "fullW2V.most_similar('psychological')"
      ],
      "execution_count": 28,
      "outputs": [
        {
          "output_type": "execute_result",
          "data": {
            "text/plain": [
              "[('association', 0.9376375079154968),\n",
              " ('document', 0.9167454838752747),\n",
              " ('american', 0.8909935355186462),\n",
              " ('ally', 0.8893635272979736),\n",
              " ('psychologist', 0.8778862953186035),\n",
              " ('fulfillment', 0.8642103672027588),\n",
              " ('copyright', 0.8618373870849609),\n",
              " ('publisher', 0.8573639392852783),\n",
              " ('perspective', 0.8492352962493896),\n",
              " ('513–524', 0.8421583771705627)]"
            ]
          },
          "metadata": {
            "tags": []
          },
          "execution_count": 28
        }
      ]
    },
    {
      "cell_type": "code",
      "metadata": {
        "colab": {
          "base_uri": "https://localhost:8080/"
        },
        "id": "r6OBI15Clhr3",
        "outputId": "8e9eeec0-0fd6-456e-9297-b2399b31524e"
      },
      "source": [
        "fullW2V.most_similar('economy')"
      ],
      "execution_count": 27,
      "outputs": [
        {
          "output_type": "execute_result",
          "data": {
            "text/plain": [
              "[('shock', 0.9052436351776123),\n",
              " ('chain', 0.898902177810669),\n",
              " ('pharmaceutical', 0.8619531393051147),\n",
              " ('mitigate', 0.8553270101547241),\n",
              " ('externality', 0.8548004627227783),\n",
              " ('equilibrium', 0.8537750244140625),\n",
              " ('temporary', 0.8504856824874878),\n",
              " ('trade', 0.8500582575798035),\n",
              " ('consequence', 0.8491602540016174),\n",
              " ('affect', 0.8470218777656555)]"
            ]
          },
          "metadata": {
            "tags": []
          },
          "execution_count": 27
        }
      ]
    },
    {
      "cell_type": "code",
      "metadata": {
        "colab": {
          "base_uri": "https://localhost:8080/"
        },
        "id": "q3rJi5KimKGh",
        "outputId": "46df8252-9d0d-4341-fa82-460f65544106"
      },
      "source": [
        "numWords = 50\n",
        "targetWords = fullW2V.wv.index2word[:numWords]\n",
        "\n",
        "wordsSubMatrix = []\n",
        "for word in targetWords:\n",
        "    wordsSubMatrix.append(fullW2V[word])\n",
        "wordsSubMatrix = np.array(wordsSubMatrix)\n",
        "wordsSubMatrix"
      ],
      "execution_count": 32,
      "outputs": [
        {
          "output_type": "execute_result",
          "data": {
            "text/plain": [
              "array([[ 0.5597746 ,  0.11376412, -0.46149015, ..., -1.0161502 ,\n",
              "        -0.15520696,  1.9305593 ],\n",
              "       [ 1.5558631 ,  0.6378739 , -0.28709278, ...,  0.01625011,\n",
              "        -0.33888507, -0.41665804],\n",
              "       [ 0.13115358, -0.79369175, -0.08601692, ...,  0.47851998,\n",
              "         1.3679327 ,  0.29697704],\n",
              "       ...,\n",
              "       [ 1.0241284 ,  0.59538925, -0.52049774, ..., -0.9568455 ,\n",
              "         0.6599825 ,  1.6414175 ],\n",
              "       [ 0.8711913 ,  0.400333  , -0.61866343, ..., -0.33490178,\n",
              "         1.0486008 , -0.33106804],\n",
              "       [ 0.82725126, -0.5059644 , -0.27818385, ...,  0.06999511,\n",
              "         0.33809572, -0.779389  ]], dtype=float32)"
            ]
          },
          "metadata": {
            "tags": []
          },
          "execution_count": 32
        }
      ]
    },
    {
      "cell_type": "code",
      "metadata": {
        "id": "0ZAgIUVImR2w"
      },
      "source": [
        "pcaWords = sklearn.decomposition.PCA(n_components = 50).fit(wordsSubMatrix)\n",
        "reducedPCA_data = pcaWords.transform(wordsSubMatrix)\n",
        "# TSNE\n",
        "tsneWords = sklearn.manifold.TSNE(n_components = 2).fit_transform(reducedPCA_data)"
      ],
      "execution_count": 35,
      "outputs": []
    },
    {
      "cell_type": "code",
      "metadata": {
        "colab": {
          "base_uri": "https://localhost:8080/",
          "height": 935
        },
        "id": "LGpqXq0Bmasc",
        "outputId": "56136823-f1c5-4595-ee10-8727712b5989"
      },
      "source": [
        "fig = plt.figure(figsize = (15,15))\n",
        "ax = fig.add_subplot(111)\n",
        "ax.set_frame_on(False)\n",
        "plt.scatter(tsneWords[:, 0], tsneWords[:, 1], alpha = 0)#Making the points invisible \n",
        "for i, word in enumerate(targetWords):\n",
        "    ax.annotate(word, (tsneWords[:, 0][i],tsneWords[:, 1][i]), size =  20 * (numWords - i) / numWords)\n",
        "plt.xticks(())\n",
        "plt.yticks(())\n",
        "plt.show()"
      ],
      "execution_count": 36,
      "outputs": [
        {
          "output_type": "stream",
          "text": [
            "/usr/local/lib/python3.7/dist-packages/matplotlib/backends/backend_agg.py:214: RuntimeWarning: Glyph 11005 missing from current font.\n",
            "  font.set_text(s, 0.0, flags=flags)\n",
            "/usr/local/lib/python3.7/dist-packages/matplotlib/backends/backend_agg.py:183: RuntimeWarning: Glyph 11005 missing from current font.\n",
            "  font.set_text(s, 0, flags=flags)\n"
          ],
          "name": "stderr"
        },
        {
          "output_type": "display_data",
          "data": {
            "image/png": "[encoded data removed]",
            "text/plain": [
              "<Figure size 1080x1080 with 1 Axes>"
            ]
          },
          "metadata": {
            "tags": []
          }
        }
      ]
    },
    {
      "cell_type": "markdown",
      "metadata": {
        "id": "Dms-aBUbk4Zf"
      },
      "source": [
        "## Natural Science"
      ]
    },
    {
      "cell_type": "code",
      "metadata": {
        "id": "Si6oxofSk6q9"
      },
      "source": [
        "papersW2V = gensim.models.word2vec.Word2Vec(papers_df['normalized_sents'].sum())"
      ],
      "execution_count": 15,
      "outputs": []
    },
    {
      "cell_type": "code",
      "metadata": {
        "colab": {
          "base_uri": "https://localhost:8080/"
        },
        "id": "wn2L1jRNlZdp",
        "outputId": "13adf862-2146-4e62-c2a5-5d0e17236e72"
      },
      "source": [
        "papersW2V.most_similar('covid-19')"
      ],
      "execution_count": 17,
      "outputs": [
        {
          "output_type": "execute_result",
          "data": {
            "text/plain": [
              "[('new', 0.9998427629470825),\n",
              " ('result', 0.9998418092727661),\n",
              " ('continue', 0.9998132586479187),\n",
              " ('human', 0.9997997879981995),\n",
              " ('recently', 0.9997830390930176),\n",
              " ('complication', 0.9997658729553223),\n",
              " ('late', 0.9997572898864746),\n",
              " ('infectious', 0.9997531771659851),\n",
              " ('worldwide', 0.9997470378875732),\n",
              " ('begin', 0.9997299313545227)]"
            ]
          },
          "metadata": {
            "tags": []
          },
          "execution_count": 17
        }
      ]
    },
    {
      "cell_type": "code",
      "metadata": {
        "colab": {
          "base_uri": "https://localhost:8080/"
        },
        "id": "NprAuviImD16",
        "outputId": "866ce92a-ce58-4d60-b825-2098c2ef0901"
      },
      "source": [
        "papersW2V.most_similar('vaccine')"
      ],
      "execution_count": 21,
      "outputs": [
        {
          "output_type": "execute_result",
          "data": {
            "text/plain": [
              "[('model', 0.9998939037322998),\n",
              " ('effective', 0.9998881816864014),\n",
              " ('potential', 0.9998874664306641),\n",
              " ('strategy', 0.999883234500885),\n",
              " ('include', 0.9998825788497925),\n",
              " ('drug', 0.9998806715011597),\n",
              " ('understand', 0.9998775720596313),\n",
              " ('early', 0.9998756647109985),\n",
              " ('reduce', 0.9998752474784851),\n",
              " ('control', 0.9998699426651001)]"
            ]
          },
          "metadata": {
            "tags": []
          },
          "execution_count": 21
        }
      ]
    },
    {
      "cell_type": "code",
      "metadata": {
        "colab": {
          "base_uri": "https://localhost:8080/"
        },
        "id": "dGqyUPH2mGb4",
        "outputId": "8cd6140c-2778-4aa6-cdfd-6d72d5724e0c"
      },
      "source": [
        "papersW2V.most_similar('treatment')"
      ],
      "execution_count": 22,
      "outputs": [
        {
          "output_type": "execute_result",
          "data": {
            "text/plain": [
              "[('low', 0.9998729228973389),\n",
              " ('relate', 0.9998582601547241),\n",
              " ('understand', 0.9998553395271301),\n",
              " ('vaccine', 0.9998540878295898),\n",
              " ('patient', 0.9998528957366943),\n",
              " ('present', 0.999847412109375),\n",
              " ('severity', 0.9998459815979004),\n",
              " ('find', 0.9998447895050049),\n",
              " ('trial', 0.9998437166213989),\n",
              " ('march', 0.9998431205749512)]"
            ]
          },
          "metadata": {
            "tags": []
          },
          "execution_count": 22
        }
      ]
    },
    {
      "cell_type": "code",
      "metadata": {
        "colab": {
          "base_uri": "https://localhost:8080/"
        },
        "id": "Luqhx4iXmIvY",
        "outputId": "c7995c6a-ed5b-4afd-b0a1-218f82f9675b"
      },
      "source": [
        "papersW2V.most_similar('china')"
      ],
      "execution_count": 24,
      "outputs": [
        {
          "output_type": "execute_result",
          "data": {
            "text/plain": [
              "[('hubei', 0.999714195728302),\n",
              " ('late', 0.9992879629135132),\n",
              " ('rapidly', 0.9992682933807373),\n",
              " ('worldwide', 0.9992018938064575),\n",
              " ('originate', 0.999173641204834),\n",
              " ('begin', 0.9990863800048828),\n",
              " ('province', 0.9990449547767639),\n",
              " ('viral', 0.9990167617797852),\n",
              " ('recently', 0.9990154504776001),\n",
              " ('new', 0.9989810585975647)]"
            ]
          },
          "metadata": {
            "tags": []
          },
          "execution_count": 24
        }
      ]
    },
    {
      "cell_type": "code",
      "metadata": {
        "colab": {
          "base_uri": "https://localhost:8080/"
        },
        "id": "vPVg_tm6mMwJ",
        "outputId": "90496365-3085-4406-c70e-63d9265732c5"
      },
      "source": [
        "papersW2V.most_similar('job')"
      ],
      "execution_count": 25,
      "outputs": [
        {
          "output_type": "execute_result",
          "data": {
            "text/plain": [
              "[('disorder', 0.9986975193023682),\n",
              " ('et', 0.9986754655838013),\n",
              " ('implement', 0.9986667633056641),\n",
              " ('search', 0.9986576437950134),\n",
              " ('numb', 0.9986507892608643),\n",
              " ('adopt', 0.9986448287963867),\n",
              " ('use', 0.9986392259597778),\n",
              " ('ct', 0.998621940612793),\n",
              " ('role', 0.9986189603805542),\n",
              " ('investigate', 0.9986182451248169)]"
            ]
          },
          "metadata": {
            "tags": []
          },
          "execution_count": 25
        }
      ]
    },
    {
      "cell_type": "code",
      "metadata": {
        "colab": {
          "base_uri": "https://localhost:8080/"
        },
        "id": "z2VOKXIimP5x",
        "outputId": "c2febd27-ee1d-4129-bca0-2e9b715a54fc"
      },
      "source": [
        "papersW2V.most_similar('leader')"
      ],
      "execution_count": 26,
      "outputs": [
        {
          "output_type": "execute_result",
          "data": {
            "text/plain": [
              "[('level', 0.9997876286506653),\n",
              " ('time', 0.9997591972351074),\n",
              " ('university', 0.9997567534446716),\n",
              " ('government', 0.9997553825378418),\n",
              " ('work', 0.9997516870498657),\n",
              " ('group', 0.9997513294219971),\n",
              " ('learn', 0.9997508525848389),\n",
              " ('community', 0.9997485876083374),\n",
              " ('lockdown', 0.9997460246086121),\n",
              " ('policy', 0.9997444152832031)]"
            ]
          },
          "metadata": {
            "tags": []
          },
          "execution_count": 26
        }
      ]
    },
    {
      "cell_type": "code",
      "metadata": {
        "colab": {
          "base_uri": "https://localhost:8080/"
        },
        "id": "ovvJw4ComSF5",
        "outputId": "5bf0a72e-545b-429e-d8e7-8c88d241cf27"
      },
      "source": [
        "papersW2V.most_similar('economy')"
      ],
      "execution_count": 27,
      "outputs": [
        {
          "output_type": "execute_result",
          "data": {
            "text/plain": [
              "[('impact', 0.9998507499694824),\n",
              " ('crisis', 0.9998484253883362),\n",
              " ('society', 0.9998253583908081),\n",
              " ('work', 0.9998248815536499),\n",
              " ('hospital', 0.999822199344635),\n",
              " ('lockdown', 0.9998174905776978),\n",
              " ('practice', 0.9998120665550232),\n",
              " ('university', 0.9998114109039307),\n",
              " ('time', 0.9998106956481934),\n",
              " ('service', 0.9998049736022949)]"
            ]
          },
          "metadata": {
            "tags": []
          },
          "execution_count": 27
        }
      ]
    },
    {
      "cell_type": "code",
      "metadata": {
        "colab": {
          "base_uri": "https://localhost:8080/"
        },
        "id": "5I7sP9HLmWVs",
        "outputId": "d9dfb9c7-b135-4569-8ec4-09dd48d5117c"
      },
      "source": [
        "papersW2V.most_similar('people')"
      ],
      "execution_count": 28,
      "outputs": [
        {
          "output_type": "execute_result",
          "data": {
            "text/plain": [
              "[('include', 0.9999063611030579),\n",
              " ('increase', 0.9998904466629028),\n",
              " ('large', 0.9998719692230225),\n",
              " ('early', 0.9998691082000732),\n",
              " ('understand', 0.9998657703399658),\n",
              " ('adult', 0.9998646974563599),\n",
              " ('potential', 0.9998599290847778),\n",
              " ('effective', 0.9998580813407898),\n",
              " ('strategy', 0.9998574256896973),\n",
              " ('model', 0.9998565912246704)]"
            ]
          },
          "metadata": {
            "tags": []
          },
          "execution_count": 28
        }
      ]
    },
    {
      "cell_type": "code",
      "metadata": {
        "colab": {
          "base_uri": "https://localhost:8080/"
        },
        "id": "E-ENakMUlfm9",
        "outputId": "ae5a3cf5-f30f-440b-83fc-2b9e278c1e24"
      },
      "source": [
        "numWords = 50\n",
        "targetWords = papersW2V.wv.index2word[:numWords]\n",
        "\n",
        "wordsSubMatrix = []\n",
        "for word in targetWords:\n",
        "    wordsSubMatrix.append(papersW2V[word])\n",
        "wordsSubMatrix = np.array(wordsSubMatrix)\n",
        "wordsSubMatrix"
      ],
      "execution_count": 18,
      "outputs": [
        {
          "output_type": "execute_result",
          "data": {
            "text/plain": [
              "array([[-0.14979531,  0.2669175 ,  0.12955476, ...,  0.11501095,\n",
              "         0.14630908,  0.29235613],\n",
              "       [-0.24249135,  0.20138872,  0.18974334, ..., -0.08300783,\n",
              "         0.2026029 ,  0.1714743 ],\n",
              "       [-0.1907625 ,  0.21985237,  0.1683869 , ...,  0.01276754,\n",
              "         0.17862743,  0.22623345],\n",
              "       ...,\n",
              "       [-0.12222155,  0.28314623,  0.11710867, ...,  0.15160415,\n",
              "         0.13312975,  0.31924036],\n",
              "       [-0.15002699,  0.30869752,  0.12305681, ...,  0.17250948,\n",
              "         0.13895474,  0.34231085],\n",
              "       [-0.13575284,  0.27041823,  0.11949792, ...,  0.145287  ,\n",
              "         0.13111664,  0.3129912 ]], dtype=float32)"
            ]
          },
          "metadata": {
            "tags": []
          },
          "execution_count": 18
        }
      ]
    },
    {
      "cell_type": "code",
      "metadata": {
        "id": "LlOltDMdlocr"
      },
      "source": [
        "pcaWords = sklearn.decomposition.PCA(n_components = 50).fit(wordsSubMatrix)\n",
        "reducedPCA_data = pcaWords.transform(wordsSubMatrix)\n",
        "# TSNE\n",
        "tsneWords = sklearn.manifold.TSNE(n_components = 2).fit_transform(reducedPCA_data)"
      ],
      "execution_count": 19,
      "outputs": []
    },
    {
      "cell_type": "code",
      "metadata": {
        "colab": {
          "base_uri": "https://localhost:8080/",
          "height": 846
        },
        "id": "z1Q3rxkklsWh",
        "outputId": "1499c79b-c535-43c7-b5e9-e75407f74423"
      },
      "source": [
        "fig = plt.figure(figsize = (15,15))\n",
        "ax = fig.add_subplot(111)\n",
        "ax.set_frame_on(False)\n",
        "plt.scatter(tsneWords[:, 0], tsneWords[:, 1], alpha = 0)#Making the points invisible \n",
        "for i, word in enumerate(targetWords):\n",
        "    ax.annotate(word, (tsneWords[:, 0][i],tsneWords[:, 1][i]), size =  20 * (numWords - i) / numWords)\n",
        "plt.xticks(())\n",
        "plt.yticks(())\n",
        "plt.show()"
      ],
      "execution_count": 29,
      "outputs": [
        {
          "output_type": "display_data",
          "data": {
            "image/png": "[encoded data removed]",
            "text/plain": [
              "<Figure size 1080x1080 with 1 Axes>"
            ]
          },
          "metadata": {
            "tags": []
          }
        }
      ]
    },
    {
      "cell_type": "markdown",
      "metadata": {
        "id": "Vg5qeQmG2BKj"
      },
      "source": [
        "# Linguistic Change"
      ]
    },
    {
      "cell_type": "code",
      "metadata": {
        "id": "vB7sIE0K2FHb"
      },
      "source": [
        "import copy"
      ],
      "execution_count": 30,
      "outputs": []
    },
    {
      "cell_type": "code",
      "metadata": {
        "id": "yEkwS29w2In8"
      },
      "source": [
        "def calc_syn0norm(model):\n",
        "    \"\"\"since syn0norm is now depricated\"\"\"\n",
        "    return (model.wv.syn0 / np.sqrt((model.wv.syn0 ** 2).sum(-1))[..., np.newaxis]).astype(np.float32)\n",
        "\n",
        "def smart_procrustes_align_gensim(base_embed, other_embed, words=None):\n",
        "    \"\"\"Procrustes align two gensim word2vec models (to allow for comparison between same word across models).\n",
        "    Code ported from HistWords <https://github.com/williamleif/histwords> by William Hamilton <wleif@stanford.edu>.\n",
        "    (With help from William. Thank you!)\n",
        "    First, intersect the vocabularies (see `intersection_align_gensim` documentation).\n",
        "    Then do the alignment on the other_embed model.\n",
        "    Replace the other_embed model's syn0 and syn0norm numpy matrices with the aligned version.\n",
        "    Return other_embed.\n",
        "    If `words` is set, intersect the two models' vocabulary with the vocabulary in words (see `intersection_align_gensim` documentation).\n",
        "    \"\"\"\n",
        "    base_embed = copy.copy(base_embed)\n",
        "    other_embed = copy.copy(other_embed)\n",
        "    # make sure vocabulary and indices are aligned\n",
        "    in_base_embed, in_other_embed = intersection_align_gensim(base_embed, other_embed, words=words)\n",
        "\n",
        "    # get the embedding matrices\n",
        "    base_vecs = calc_syn0norm(in_base_embed)\n",
        "    other_vecs = calc_syn0norm(in_other_embed)\n",
        "\n",
        "    # just a matrix dot product with numpy\n",
        "    m = other_vecs.T.dot(base_vecs) \n",
        "    # SVD method from numpy\n",
        "    u, _, v = np.linalg.svd(m)\n",
        "    # another matrix operation\n",
        "    ortho = u.dot(v) \n",
        "    # Replace original array with modified one\n",
        "    # i.e. multiplying the embedding matrix (syn0norm)by \"ortho\"\n",
        "    other_embed.wv.syn0norm = other_embed.wv.syn0 = (calc_syn0norm(other_embed)).dot(ortho)\n",
        "    return other_embed\n",
        "    \n",
        "def intersection_align_gensim(m1,m2, words=None):\n",
        "    \"\"\"\n",
        "    Intersect two gensim word2vec models, m1 and m2.\n",
        "    Only the shared vocabulary between them is kept.\n",
        "    If 'words' is set (as list or set), then the vocabulary is intersected with this list as well.\n",
        "    Indices are re-organized from 0..N in order of descending frequency (=sum of counts from both m1 and m2).\n",
        "    These indices correspond to the new syn0 and syn0norm objects in both gensim models:\n",
        "        -- so that Row 0 of m1.syn0 will be for the same word as Row 0 of m2.syn0\n",
        "        -- you can find the index of any word on the .index2word list: model.index2word.index(word) => 2\n",
        "    The .vocab dictionary is also updated for each model, preserving the count but updating the index.\n",
        "    \"\"\"\n",
        "\n",
        "    # Get the vocab for each model\n",
        "    vocab_m1 = set(m1.wv.vocab.keys())\n",
        "    vocab_m2 = set(m2.wv.vocab.keys())\n",
        "\n",
        "    # Find the common vocabulary\n",
        "    common_vocab = vocab_m1&vocab_m2\n",
        "    if words: common_vocab&=set(words)\n",
        "\n",
        "    # If no alignment necessary because vocab is identical...\n",
        "    if not vocab_m1-common_vocab and not vocab_m2-common_vocab:\n",
        "        return (m1,m2)\n",
        "\n",
        "    # Otherwise sort by frequency (summed for both)\n",
        "    common_vocab = list(common_vocab)\n",
        "    common_vocab.sort(key=lambda w: m1.wv.vocab[w].count + m2.wv.vocab[w].count,reverse=True)\n",
        "\n",
        "    # Then for each model...\n",
        "    for m in [m1,m2]:\n",
        "        # Replace old syn0norm array with new one (with common vocab)\n",
        "        indices = [m.wv.vocab[w].index for w in common_vocab]\n",
        "        old_arr = calc_syn0norm(m)\n",
        "        new_arr = np.array([old_arr[index] for index in indices])\n",
        "        m.wv.syn0norm = m.wv.syn0 = new_arr\n",
        "\n",
        "        # Replace old vocab dictionary with new one (with common vocab)\n",
        "        # and old index2word with new one\n",
        "        m.index2word = common_vocab\n",
        "        old_vocab = m.wv.vocab\n",
        "        new_vocab = {}\n",
        "        for new_index,word in enumerate(common_vocab):\n",
        "            old_vocab_obj=old_vocab[word]\n",
        "            new_vocab[word] = gensim.models.word2vec.Vocab(index=new_index, count=old_vocab_obj.count)\n",
        "        m.wv.vocab = new_vocab\n",
        "\n",
        "    return (m1,m2)"
      ],
      "execution_count": 31,
      "outputs": []
    },
    {
      "cell_type": "code",
      "metadata": {
        "id": "qlGvsMH12gko"
      },
      "source": [
        "def compareModels(df, category, text_column_name='normalized_sents', sort = True, embeddings_raw={}):\n",
        "    \"\"\"If you are using time as your category sorting is important\"\"\"\n",
        "    if len(embeddings_raw) == 0:\n",
        "        embeddings_raw = rawModels(df, category, text_column_name, sort)\n",
        "    cats = sorted(set(df[category]))\n",
        "    #These are much quicker\n",
        "    embeddings_aligned = {}\n",
        "    for catOuter in cats:\n",
        "        embeddings_aligned[catOuter] = [embeddings_raw[catOuter]]\n",
        "        for catInner in cats:\n",
        "            embeddings_aligned[catOuter].append(smart_procrustes_align_gensim(embeddings_aligned[catOuter][-1], embeddings_raw[catInner]))\n",
        "    return embeddings_raw, embeddings_aligned"
      ],
      "execution_count": 33,
      "outputs": []
    },
    {
      "cell_type": "code",
      "metadata": {
        "id": "6ph7o_Kx2kpB"
      },
      "source": [
        "def rawModels(df, category, text_column_name='normalized_sents', sort = True):\n",
        "    embeddings_raw = {}\n",
        "    cats = sorted(set(df[category]))\n",
        "    for cat in cats:\n",
        "        #This can take a while\n",
        "        print(\"Embedding {}\".format(cat), end = '\\r')\n",
        "        subsetDF = df[df[category] == cat]\n",
        "        #You might want to change the W2V parameters\n",
        "        embeddings_raw[cat] = gensim.models.word2vec.Word2Vec(subsetDF[text_column_name].sum())\n",
        "    return embeddings_raw"
      ],
      "execution_count": 35,
      "outputs": []
    },
    {
      "cell_type": "code",
      "metadata": {
        "id": "xE-CWyKo2356"
      },
      "source": [
        "def getDivergenceDF(word, embeddingsDict):\n",
        "    dists = []\n",
        "    cats = sorted(set(embeddingsDict.keys()))\n",
        "    dists = {}\n",
        "    print(word)\n",
        "    for cat in cats:\n",
        "        dists[cat] = []\n",
        "        for embed in embeddingsDict[cat][1:]:\n",
        "            dists[cat].append(np.abs(1 - sklearn.metrics.pairwise.cosine_similarity(np.expand_dims(embeddingsDict[cat][0][word], axis = 0),\n",
        "                                                                             np.expand_dims(embed[word], axis = 0))[0,0]))\n",
        "    return pandas.DataFrame(dists, index = cats)"
      ],
      "execution_count": 39,
      "outputs": []
    },
    {
      "cell_type": "code",
      "metadata": {
        "id": "9v5LRBzl3Nb9"
      },
      "source": [
        "def findDiverence(word, embeddingsDict):\n",
        "    cats = sorted(set(embeddingsDict.keys()))\n",
        "    \n",
        "    dists = []\n",
        "    for embed in embeddingsDict[cats[0]][1:]:\n",
        "        dists.append(1 - sklearn.metrics.pairwise.cosine_similarity(np.expand_dims(embeddingsDict[cats[0]][0][word], axis = 0), np.expand_dims(embed[word], axis = 0))[0,0])\n",
        "    return sum(dists)\n",
        "\n",
        "def findMostDivergent(embeddingsDict):\n",
        "    words = []\n",
        "    for embeds in embeddingsDict.values():\n",
        "        for embed in embeds:\n",
        "            words += list(embed.wv.vocab.keys())\n",
        "    words = set(words)\n",
        "    print(\"Found {} words to compare\".format(len(words)))\n",
        "    return sorted([(w, findDiverence(w, embeddingsDict)) for w in words], key = lambda x: x[1], reverse=True)\n",
        "    "
      ],
      "execution_count": 43,
      "outputs": []
    },
    {
      "cell_type": "code",
      "metadata": {
        "colab": {
          "base_uri": "https://localhost:8080/"
        },
        "id": "GUHkXsz52Mem",
        "outputId": "d04b518b-11c9-4dd7-bd90-8d03e86639c4"
      },
      "source": [
        "rawEmbeddings, comparedEmbeddings = compareModels(papers_df, 'year')"
      ],
      "execution_count": 36,
      "outputs": [
        {
          "output_type": "stream",
          "text": [
            ""
          ],
          "name": "stdout"
        }
      ]
    },
    {
      "cell_type": "code",
      "metadata": {
        "colab": {
          "base_uri": "https://localhost:8080/"
        },
        "id": "ATOYgVeq3IDk",
        "outputId": "153beb28-006c-44b9-8cd0-421c1d7c10a9"
      },
      "source": [
        "wordDivergences = findMostDivergent(comparedEmbeddings)"
      ],
      "execution_count": 44,
      "outputs": [
        {
          "output_type": "stream",
          "text": [
            "Found 265 words to compare\n"
          ],
          "name": "stdout"
        }
      ]
    },
    {
      "cell_type": "code",
      "metadata": {
        "colab": {
          "base_uri": "https://localhost:8080/"
        },
        "id": "87iqqi-C3A6N",
        "outputId": "e6b39220-c851-47a1-f49f-1882b31d1d30"
      },
      "source": [
        "# most divergent\n",
        "wordDivergences[:20]"
      ],
      "execution_count": 45,
      "outputs": [
        {
          "output_type": "execute_result",
          "data": {
            "text/plain": [
              "[('question', 0.9772264361381531),\n",
              " ('america', 0.8928688168525696),\n",
              " ('real', 0.8140999674797058),\n",
              " ('period', 0.8040522336959839),\n",
              " ('model', 0.7849266529083252),\n",
              " ('introduction', 0.7819625735282898),\n",
              " ('well', 0.7156000733375549),\n",
              " ('era', 0.6698452234268188),\n",
              " ('threat', 0.6512431502342224),\n",
              " ('link', 0.6267843842506409),\n",
              " ('non', 0.6138435006141663),\n",
              " ('search', 0.5444912910461426),\n",
              " ('document', 0.5067097544670105),\n",
              " ('help', 0.4897412657737732),\n",
              " ('assessment', 0.4890210032463074),\n",
              " ('intensive', 0.48097503185272217),\n",
              " ('aspect', 0.4807313084602356),\n",
              " ('hospitalize', 0.47300034761428833),\n",
              " ('lung', 0.4536757469177246),\n",
              " ('therapy', 0.44734495878219604)]"
            ]
          },
          "metadata": {
            "tags": []
          },
          "execution_count": 45
        }
      ]
    },
    {
      "cell_type": "code",
      "metadata": {
        "colab": {
          "base_uri": "https://localhost:8080/"
        },
        "id": "Kt_lquda3ViS",
        "outputId": "6df5ac11-570a-4dd9-dda5-115c62f00c77"
      },
      "source": [
        "wordDivergences[-20:]"
      ],
      "execution_count": 46,
      "outputs": [
        {
          "output_type": "execute_result",
          "data": {
            "text/plain": [
              "[('disease', 0.022487878799438477),\n",
              " ('syndrome', 0.02231299877166748),\n",
              " ('practice', 0.021638453006744385),\n",
              " ('medical', 0.021146655082702637),\n",
              " ('student', 0.02090078592300415),\n",
              " ('acute', 0.020557105541229248),\n",
              " ('care', 0.02038121223449707),\n",
              " ('state', 0.019770681858062744),\n",
              " ('sars', 0.019412517547607422),\n",
              " ('cause', 0.019277334213256836),\n",
              " ('country', 0.019088447093963623),\n",
              " ('system', 0.018129825592041016),\n",
              " ('new', 0.01715749502182007),\n",
              " ('world', 0.017048776149749756),\n",
              " ('case', 0.015927553176879883),\n",
              " ('health', 0.01433563232421875),\n",
              " ('severe', 0.01371544599533081),\n",
              " ('coronavirus', 0.011662721633911133),\n",
              " ('pandemic', 0.010997951030731201),\n",
              " ('covid-19', 0.003960847854614258)]"
            ]
          },
          "metadata": {
            "tags": []
          },
          "execution_count": 46
        }
      ]
    },
    {
      "cell_type": "code",
      "metadata": {
        "colab": {
          "base_uri": "https://localhost:8080/",
          "height": 475
        },
        "id": "UomswxUp2u70",
        "outputId": "1402acec-d066-48f8-eb40-b76c6761e759"
      },
      "source": [
        "targetWord = 'china'\n",
        "\n",
        "pltDF = getDivergenceDF(targetWord, comparedEmbeddings)\n",
        "fig, ax = plt.subplots(figsize = (10, 7))\n",
        "seaborn.heatmap(pltDF, ax = ax, annot = False) #set annot True for a lot more information\n",
        "ax.set_xlabel(\"Starting year\")\n",
        "ax.set_ylabel(\"Final year\")\n",
        "ax.set_ylabel(\"Final year\")\n",
        "ax.set_title(\"Yearly linguistic change for: '{}'\".format(targetWord))\n",
        "plt.show()"
      ],
      "execution_count": 40,
      "outputs": [
        {
          "output_type": "stream",
          "text": [
            "china\n"
          ],
          "name": "stdout"
        },
        {
          "output_type": "display_data",
          "data": {
            "image/png": "[encoded data removed]",
            "text/plain": [
              "<Figure size 720x504 with 2 Axes>"
            ]
          },
          "metadata": {
            "tags": [],
            "needs_background": "light"
          }
        }
      ]
    },
    {
      "cell_type": "code",
      "metadata": {
        "colab": {
          "base_uri": "https://localhost:8080/",
          "height": 475
        },
        "id": "7dwVb-UK3cqt",
        "outputId": "174a7960-5b50-4e85-af89-f5b87b0eb95c"
      },
      "source": [
        "targetWord= \"america\"\n",
        "pltDF = getDivergenceDF(targetWord, comparedEmbeddings)\n",
        "fig, ax = plt.subplots(figsize = (10, 7))\n",
        "seaborn.heatmap(pltDF, ax = ax, annot = False) #set annot True for a lot more information\n",
        "ax.set_xlabel(\"Starting year\")\n",
        "ax.set_ylabel(\"Final year\")\n",
        "ax.set_ylabel(\"Final year\")\n",
        "ax.set_title(\"Yearly linguistic change for: '{}'\".format(targetWord))\n",
        "plt.show()"
      ],
      "execution_count": 47,
      "outputs": [
        {
          "output_type": "stream",
          "text": [
            "america\n"
          ],
          "name": "stdout"
        },
        {
          "output_type": "display_data",
          "data": {
            "image/png": "[encoded data removed]",
            "text/plain": [
              "<Figure size 720x504 with 2 Axes>"
            ]
          },
          "metadata": {
            "tags": [],
            "needs_background": "light"
          }
        }
      ]
    },
    {
      "cell_type": "code",
      "metadata": {
        "colab": {
          "base_uri": "https://localhost:8080/",
          "height": 475
        },
        "id": "hUfwnTdh3gkC",
        "outputId": "25da26f6-7ad6-42b3-edca-944ab0a907b0"
      },
      "source": [
        "targetWord= \"quarantine\"\n",
        "pltDF = getDivergenceDF(targetWord, comparedEmbeddings)\n",
        "fig, ax = plt.subplots(figsize = (10, 7))\n",
        "seaborn.heatmap(pltDF, ax = ax, annot = False) #set annot True for a lot more information\n",
        "ax.set_xlabel(\"Starting year\")\n",
        "ax.set_ylabel(\"Final year\")\n",
        "ax.set_ylabel(\"Final year\")\n",
        "ax.set_title(\"Yearly linguistic change for: '{}'\".format(targetWord))\n",
        "plt.show()"
      ],
      "execution_count": 48,
      "outputs": [
        {
          "output_type": "stream",
          "text": [
            "quarantine\n"
          ],
          "name": "stdout"
        },
        {
          "output_type": "display_data",
          "data": {
            "image/png": "[encoded data removed]",
            "text/plain": [
              "<Figure size 720x504 with 2 Axes>"
            ]
          },
          "metadata": {
            "tags": [],
            "needs_background": "light"
          }
        }
      ]
    },
    {
      "cell_type": "code",
      "metadata": {
        "colab": {
          "base_uri": "https://localhost:8080/",
          "height": 475
        },
        "id": "142-js1s3i0O",
        "outputId": "51399960-db8a-4bd4-8554-486ce873354a"
      },
      "source": [
        "targetWord= \"vaccine\"\n",
        "pltDF = getDivergenceDF(targetWord, comparedEmbeddings)\n",
        "fig, ax = plt.subplots(figsize = (10, 7))\n",
        "seaborn.heatmap(pltDF, ax = ax, annot = False) #set annot True for a lot more information\n",
        "ax.set_xlabel(\"Starting year\")\n",
        "ax.set_ylabel(\"Final year\")\n",
        "ax.set_ylabel(\"Final year\")\n",
        "ax.set_title(\"Yearly linguistic change for: '{}'\".format(targetWord))\n",
        "plt.show()"
      ],
      "execution_count": 49,
      "outputs": [
        {
          "output_type": "stream",
          "text": [
            "vaccine\n"
          ],
          "name": "stdout"
        },
        {
          "output_type": "display_data",
          "data": {
            "image/png": "[encoded data removed]",
            "text/plain": [
              "<Figure size 720x504 with 2 Axes>"
            ]
          },
          "metadata": {
            "tags": [],
            "needs_background": "light"
          }
        }
      ]
    },
    {
      "cell_type": "code",
      "metadata": {
        "colab": {
          "base_uri": "https://localhost:8080/",
          "height": 475
        },
        "id": "_GLG--EG3p0B",
        "outputId": "7228f0b1-3ee8-4d7c-d3ad-a0a2e11013a5"
      },
      "source": [
        "targetWord = 'threat'\n",
        "\n",
        "pltDF = getDivergenceDF(targetWord, comparedEmbeddings)\n",
        "fig, ax = plt.subplots(figsize = (10, 7))\n",
        "seaborn.heatmap(pltDF, ax = ax, annot = False) #set annot True for a lot more information\n",
        "ax.set_xlabel(\"Starting year\")\n",
        "ax.set_ylabel(\"Final year\")\n",
        "ax.set_ylabel(\"Final year\")\n",
        "ax.set_title(\"Yearly linguistic change for: '{}'\".format(targetWord))\n",
        "plt.show()"
      ],
      "execution_count": 51,
      "outputs": [
        {
          "output_type": "stream",
          "text": [
            "threat\n"
          ],
          "name": "stdout"
        },
        {
          "output_type": "display_data",
          "data": {
            "image/png": "[encoded data removed]",
            "text/plain": [
              "<Figure size 720x504 with 2 Axes>"
            ]
          },
          "metadata": {
            "tags": [],
            "needs_background": "light"
          }
        }
      ]
    },
    {
      "cell_type": "markdown",
      "metadata": {
        "id": "hpcGvzZKhV_g"
      },
      "source": [
        "# Sentiment Analysis"
      ]
    },
    {
      "cell_type": "code",
      "metadata": {
        "id": "oby1KtaGygpP"
      },
      "source": [
        "# sentiment\n",
        "full_content= (\"\".join(i for i in full_df['text']))\n",
        "full_sentiment = TextBlob(full_content)"
      ],
      "execution_count": 60,
      "outputs": []
    },
    {
      "cell_type": "code",
      "metadata": {
        "colab": {
          "base_uri": "https://localhost:8080/"
        },
        "id": "S-1kAcNL0WVp",
        "outputId": "4b8c0894-e78a-4cc4-81a2-88be75e059ab"
      },
      "source": [
        "econ_content= (\"\".join(i for i in econ_df['text']))\n",
        "econ_sentiment = TextBlob(econ_content)\n",
        "econ_sentiment.sentiment"
      ],
      "execution_count": 63,
      "outputs": [
        {
          "output_type": "execute_result",
          "data": {
            "text/plain": [
              "Sentiment(polarity=0.0728681077814532, subjectivity=0.3848585802602516)"
            ]
          },
          "metadata": {
            "tags": []
          },
          "execution_count": 63
        }
      ]
    },
    {
      "cell_type": "code",
      "metadata": {
        "colab": {
          "base_uri": "https://localhost:8080/"
        },
        "id": "lE1GXYWs1EHq",
        "outputId": "c4d0c389-2e70-4979-f3c0-8592fda4cdb6"
      },
      "source": [
        "psych_content= (\"\".join(i for i in psych_df['text']))\n",
        "psych_sentiment = TextBlob(psych_content)\n",
        "psych_sentiment.sentiment"
      ],
      "execution_count": 65,
      "outputs": [
        {
          "output_type": "execute_result",
          "data": {
            "text/plain": [
              "Sentiment(polarity=0.07493156434782125, subjectivity=0.3916037609531709)"
            ]
          },
          "metadata": {
            "tags": []
          },
          "execution_count": 65
        }
      ]
    },
    {
      "cell_type": "code",
      "metadata": {
        "colab": {
          "base_uri": "https://localhost:8080/"
        },
        "id": "UAkAfm-311oe",
        "outputId": "d700d8e8-0dfa-420a-e40d-646fe0dc8713"
      },
      "source": [
        "papers_content= (\"\".join(i for i in papers_df['text']))\n",
        "papers_sentiment = TextBlob(papers_content)\n",
        "papers_sentiment.sentiment"
      ],
      "execution_count": 67,
      "outputs": [
        {
          "output_type": "execute_result",
          "data": {
            "text/plain": [
              "Sentiment(polarity=0.10677599837734063, subjectivity=0.4166789151770683)"
            ]
          },
          "metadata": {
            "tags": []
          },
          "execution_count": 67
        }
      ]
    },
    {
      "cell_type": "code",
      "metadata": {
        "colab": {
          "base_uri": "https://localhost:8080/"
        },
        "id": "Zcu7NYzfz9r6",
        "outputId": "a735c27a-cddc-40b0-c166-d481eb611fc7"
      },
      "source": [
        "full_sentiment.sentiment"
      ],
      "execution_count": 62,
      "outputs": [
        {
          "output_type": "execute_result",
          "data": {
            "text/plain": [
              "Sentiment(polarity=0.07335415371042517, subjectivity=0.38644740343657424)"
            ]
          },
          "metadata": {
            "tags": []
          },
          "execution_count": 62
        }
      ]
    },
    {
      "cell_type": "markdown",
      "metadata": {
        "id": "Q4Is4_c_sJDg"
      },
      "source": [
        "# K-means"
      ]
    },
    {
      "cell_type": "markdown",
      "metadata": {
        "id": "LmBlPc52sNKy"
      },
      "source": [
        "## Social Science"
      ]
    },
    {
      "cell_type": "code",
      "metadata": {
        "id": "oOTvumtVv1Hn"
      },
      "source": [
        "def plotSilhouette(n_clusters, X):\n",
        "    fig, (ax1, ax2) = plt.subplots(ncols=2, figsize = (15,5))\n",
        "    \n",
        "    ax1.set_xlim([-0.1, 1])\n",
        "    ax1.set_ylim([0, len(X) + (n_clusters + 1) * 10])\n",
        "    clusterer = sklearn.cluster.KMeans(n_clusters=n_clusters, random_state=10)\n",
        "    cluster_labels = clusterer.fit_predict(X)\n",
        "    \n",
        "    silhouette_avg = sklearn.metrics.silhouette_score(X, cluster_labels)\n",
        "\n",
        "    # Compute the silhouette scores for each sample\n",
        "    sample_silhouette_values = sklearn.metrics.silhouette_samples(X, cluster_labels)\n",
        "\n",
        "    y_lower = 10\n",
        "    \n",
        "    for i in range(n_clusters):\n",
        "        ith_cluster_silhouette_values = sample_silhouette_values[cluster_labels == i]\n",
        "\n",
        "        ith_cluster_silhouette_values.sort()\n",
        "\n",
        "        size_cluster_i = ith_cluster_silhouette_values.shape[0]\n",
        "        y_upper = y_lower + size_cluster_i\n",
        "        cmap = matplotlib.cm.get_cmap(\"nipy_spectral\")\n",
        "        color = cmap(float(i) / n_clusters)\n",
        "        ax1.fill_betweenx(np.arange(y_lower, y_upper),\n",
        "                          0, ith_cluster_silhouette_values,\n",
        "                          facecolor=color, edgecolor=color, alpha=0.7)\n",
        "\n",
        "        ax1.text(-0.05, y_lower + 0.5 * size_cluster_i, str(i))\n",
        "\n",
        "        y_lower = y_upper + 10\n",
        "    \n",
        "    ax1.set_title(\"The silhouette plot for the various clusters.\")\n",
        "    ax1.set_xlabel(\"The silhouette coefficient values\")\n",
        "    ax1.set_ylabel(\"Cluster label\")\n",
        "\n",
        "    ax1.axvline(x=silhouette_avg, color=\"red\", linestyle=\"--\")\n",
        "\n",
        "    ax1.set_yticks([])  # Clear the yaxis labels / ticks\n",
        "    ax1.set_xticks([-0.1, 0, 0.2, 0.4, 0.6, 0.8, 1])\n",
        "\n",
        "    # 2nd Plot showing the actual clusters formed\n",
        "    cmap = matplotlib.cm.get_cmap(\"nipy_spectral\")\n",
        "    colors = cmap(float(i) / n_clusters)\n",
        "    ax2.scatter(reduced_data[:, 0], reduced_data[:, 1], marker='.', s=30, lw=0, alpha=0.7,\n",
        "                c=colors)\n",
        "\n",
        "    # Labeling the clusters\n",
        "    centers = clusterer.cluster_centers_\n",
        "    projected_centers = pca.transform(centers)\n",
        "    # Draw white circles at cluster centers\n",
        "    ax2.scatter(projected_centers[:, 0], projected_centers[:, 1],\n",
        "                marker='o', c=\"white\", alpha=1, s=200)\n",
        "\n",
        "    for i, c in enumerate(projected_centers):\n",
        "        ax2.scatter(c[0], c[1], marker='$%d$' % i, alpha=1, s=50)\n",
        "\n",
        "    ax2.set_title(\"The visualization of the clustered data.\")\n",
        "    ax2.set_xlabel(\"PC 1\")\n",
        "    ax2.set_ylabel(\"PC 2\")\n",
        "\n",
        "    plt.suptitle((\"Silhouette analysis for KMeans clustering on sample data \"\n",
        "                  \"with n_clusters = %d\" % n_clusters),\n",
        "                 fontsize=14, fontweight='bold')\n",
        "    plt.show()\n",
        "    print(\"For n_clusters = {}, The average silhouette_score is : {:.3f}\".format(n_clusters, silhouette_avg))"
      ],
      "execution_count": 12,
      "outputs": []
    },
    {
      "cell_type": "code",
      "metadata": {
        "colab": {
          "base_uri": "https://localhost:8080/"
        },
        "id": "vXu7bqabu4fY",
        "outputId": "2765a24d-4c2d-4cbe-94be-f5231abc9e59"
      },
      "source": [
        "#initialize\n",
        "full_Vectorizer = sklearn.feature_extraction.text.TfidfVectorizer(max_df=0.8, min_df=5, max_features=1000, stop_words='english', norm='l2')\n",
        "#train\n",
        "full_vects = full_Vectorizer.fit_transform(full_df['text'])\n",
        "full_vects.shape"
      ],
      "execution_count": 11,
      "outputs": [
        {
          "output_type": "execute_result",
          "data": {
            "text/plain": [
              "(72, 1000)"
            ]
          },
          "metadata": {
            "tags": []
          },
          "execution_count": 11
        }
      ]
    },
    {
      "cell_type": "code",
      "metadata": {
        "id": "Sp1IdU0aw3S1"
      },
      "source": [
        "PCA = sklearn.decomposition.PCA\n",
        "pca = PCA(n_components = 2).fit(papers_vects.toarray())\n",
        "reduced_data = pca.transform(full_vects.toarray())"
      ],
      "execution_count": 23,
      "outputs": []
    },
    {
      "cell_type": "code",
      "metadata": {
        "colab": {
          "base_uri": "https://localhost:8080/",
          "height": 421
        },
        "id": "eRqdBuHOv8f7",
        "outputId": "5bfabbec-430e-42a2-bcb6-334447d3edd2"
      },
      "source": [
        "# try 2 clusters\n",
        "X = full_vects.toarray()\n",
        "plotSilhouette(2, X)"
      ],
      "execution_count": 19,
      "outputs": [
        {
          "output_type": "stream",
          "text": [
            "*c* argument looks like a single numeric RGB or RGBA sequence, which should be avoided as value-mapping will have precedence in case its length matches with *x* & *y*.  Please use the *color* keyword-argument or provide a 2-D array with a single row if you intend to specify the same RGB or RGBA value for all points.\n"
          ],
          "name": "stderr"
        },
        {
          "output_type": "display_data",
          "data": {
            "image/png": "[encoded data removed]",
            "text/plain": [
              "<Figure size 1080x360 with 2 Axes>"
            ]
          },
          "metadata": {
            "tags": [],
            "needs_background": "light"
          }
        },
        {
          "output_type": "stream",
          "text": [
            "For n_clusters = 2, The average silhouette_score is : 0.049\n"
          ],
          "name": "stdout"
        }
      ]
    },
    {
      "cell_type": "code",
      "metadata": {
        "colab": {
          "base_uri": "https://localhost:8080/",
          "height": 425
        },
        "id": "DbpPXtSkw8aY",
        "outputId": "c7c9d3b6-96cb-4ba3-fab3-22268518e6a1"
      },
      "source": [
        "# try 2 clusters\n",
        "X = full_vects.toarray()\n",
        "plotSilhouette(3, X)"
      ],
      "execution_count": 22,
      "outputs": [
        {
          "output_type": "stream",
          "text": [
            "*c* argument looks like a single numeric RGB or RGBA sequence, which should be avoided as value-mapping will have precedence in case its length matches with *x* & *y*.  Please use the *color* keyword-argument or provide a 2-D array with a single row if you intend to specify the same RGB or RGBA value for all points.\n"
          ],
          "name": "stderr"
        },
        {
          "output_type": "display_data",
          "data": {
            "image/png": "[encoded data removed]",
            "text/plain": [
              "<Figure size 1080x360 with 2 Axes>"
            ]
          },
          "metadata": {
            "tags": [],
            "needs_background": "light"
          }
        },
        {
          "output_type": "stream",
          "text": [
            "For n_clusters = 3, The average silhouette_score is : 0.061\n"
          ],
          "name": "stdout"
        }
      ]
    },
    {
      "cell_type": "code",
      "metadata": {
        "colab": {
          "base_uri": "https://localhost:8080/"
        },
        "id": "3wL4a8Yox-H3",
        "outputId": "78f54bb6-0185-416e-97a9-a57b7b4cfba7"
      },
      "source": [
        "full_km = sklearn.cluster.KMeans(2, init='k-means++')\n",
        "full_km.fit(full_vects)"
      ],
      "execution_count": 24,
      "outputs": [
        {
          "output_type": "execute_result",
          "data": {
            "text/plain": [
              "KMeans(algorithm='auto', copy_x=True, init='k-means++', max_iter=300,\n",
              "       n_clusters=2, n_init=10, n_jobs=None, precompute_distances='auto',\n",
              "       random_state=None, tol=0.0001, verbose=0)"
            ]
          },
          "metadata": {
            "tags": []
          },
          "execution_count": 24
        }
      ]
    },
    {
      "cell_type": "code",
      "metadata": {
        "colab": {
          "base_uri": "https://localhost:8080/"
        },
        "id": "VrS8z_Jyybeu",
        "outputId": "77204bf8-7325-43ff-db0c-9458d7411862"
      },
      "source": [
        "full_terms = full_Vectorizer.get_feature_names()\n",
        "print(\"Top terms per cluster:\")\n",
        "order_centroids = full_km.cluster_centers_.argsort()[:, ::-1]\n",
        "for i in range(2):\n",
        "    print(\"Cluster %d:\" % i)\n",
        "    for ind in order_centroids[i, :10]:\n",
        "        print(' %s' % full_terms[ind])\n",
        "    print('\\n')"
      ],
      "execution_count": 29,
      "outputs": [
        {
          "output_type": "stream",
          "text": [
            "Top terms per cluster:\n",
            "Cluster 0:\n",
            " doi\n",
            " dx\n",
            " job\n",
            " psychological\n",
            " anxiety\n",
            " psychology\n",
            " employees\n",
            " 1037\n",
            " 01\n",
            " engagement\n",
            "\n",
            "\n",
            "Cluster 1:\n",
            " infected\n",
            " home\n",
            " policy\n",
            " employment\n",
            " county\n",
            " percent\n",
            " unemployment\n",
            " infection\n",
            " panel\n",
            " labor\n",
            "\n",
            "\n"
          ],
          "name": "stdout"
        }
      ]
    },
    {
      "cell_type": "markdown",
      "metadata": {
        "id": "TUrOZwMyy2L_"
      },
      "source": [
        "## Natural Science"
      ]
    },
    {
      "cell_type": "code",
      "metadata": {
        "colab": {
          "base_uri": "https://localhost:8080/"
        },
        "id": "qViyikD_sPuH",
        "outputId": "48c4a170-ec97-4f2b-8e50-608014b7bebf"
      },
      "source": [
        "#initialize\n",
        "papers_Vectorizer = sklearn.feature_extraction.text.TfidfVectorizer(max_df=0.8, min_df=5, max_features=1000, stop_words='english', norm='l2')\n",
        "#train\n",
        "papers_vects = papers_Vectorizer.fit_transform(papers_df['text'])\n",
        "papers_vects.shape"
      ],
      "execution_count": 32,
      "outputs": [
        {
          "output_type": "execute_result",
          "data": {
            "text/plain": [
              "(1959, 1000)"
            ]
          },
          "metadata": {
            "tags": []
          },
          "execution_count": 32
        }
      ]
    },
    {
      "cell_type": "code",
      "metadata": {
        "id": "j1wNWK4vu1RM"
      },
      "source": [
        "PCA = sklearn.decomposition.PCA\n",
        "pca = PCA(n_components = 2).fit(papers_vects.toarray())\n",
        "reduced_data = pca.transform(papers_vects.toarray())"
      ],
      "execution_count": 33,
      "outputs": []
    },
    {
      "cell_type": "code",
      "metadata": {
        "colab": {
          "base_uri": "https://localhost:8080/",
          "height": 421
        },
        "id": "zfINx_KPzC7l",
        "outputId": "8a9b20e3-62ad-491d-c1f2-3945023cbb0d"
      },
      "source": [
        "# try 2 clusters\n",
        "X = papers_vects.toarray()\n",
        "plotSilhouette(2, X)"
      ],
      "execution_count": 34,
      "outputs": [
        {
          "output_type": "stream",
          "text": [
            "*c* argument looks like a single numeric RGB or RGBA sequence, which should be avoided as value-mapping will have precedence in case its length matches with *x* & *y*.  Please use the *color* keyword-argument or provide a 2-D array with a single row if you intend to specify the same RGB or RGBA value for all points.\n"
          ],
          "name": "stderr"
        },
        {
          "output_type": "display_data",
          "data": {
            "image/png": "[encoded data removed]",
            "text/plain": [
              "<Figure size 1080x360 with 2 Axes>"
            ]
          },
          "metadata": {
            "tags": [],
            "needs_background": "light"
          }
        },
        {
          "output_type": "stream",
          "text": [
            "For n_clusters = 2, The average silhouette_score is : 0.008\n"
          ],
          "name": "stdout"
        }
      ]
    },
    {
      "cell_type": "code",
      "metadata": {
        "colab": {
          "base_uri": "https://localhost:8080/",
          "height": 421
        },
        "id": "LLbqTob0zIUp",
        "outputId": "a8545ab4-0ff7-4354-ab37-63cfe20bd3dc"
      },
      "source": [
        "# try 2 clusters\n",
        "X = papers_vects.toarray()\n",
        "plotSilhouette(3, X)"
      ],
      "execution_count": 35,
      "outputs": [
        {
          "output_type": "stream",
          "text": [
            "*c* argument looks like a single numeric RGB or RGBA sequence, which should be avoided as value-mapping will have precedence in case its length matches with *x* & *y*.  Please use the *color* keyword-argument or provide a 2-D array with a single row if you intend to specify the same RGB or RGBA value for all points.\n"
          ],
          "name": "stderr"
        },
        {
          "output_type": "display_data",
          "data": {
            "image/png": "[encoded data removed]",
            "text/plain": [
              "<Figure size 1080x360 with 2 Axes>"
            ]
          },
          "metadata": {
            "tags": [],
            "needs_background": "light"
          }
        },
        {
          "output_type": "stream",
          "text": [
            "For n_clusters = 3, The average silhouette_score is : 0.013\n"
          ],
          "name": "stdout"
        }
      ]
    },
    {
      "cell_type": "code",
      "metadata": {
        "colab": {
          "base_uri": "https://localhost:8080/",
          "height": 421
        },
        "id": "ib0bMD48zWP_",
        "outputId": "5c96cc08-7596-451d-cfee-d72b1dce14ac"
      },
      "source": [
        "# try 2 clusters\n",
        "X = papers_vects.toarray()\n",
        "plotSilhouette(4, X)"
      ],
      "execution_count": 36,
      "outputs": [
        {
          "output_type": "stream",
          "text": [
            "*c* argument looks like a single numeric RGB or RGBA sequence, which should be avoided as value-mapping will have precedence in case its length matches with *x* & *y*.  Please use the *color* keyword-argument or provide a 2-D array with a single row if you intend to specify the same RGB or RGBA value for all points.\n"
          ],
          "name": "stderr"
        },
        {
          "output_type": "display_data",
          "data": {
            "image/png": "[encoded data removed]",
            "text/plain": [
              "<Figure size 1080x360 with 2 Axes>"
            ]
          },
          "metadata": {
            "tags": [],
            "needs_background": "light"
          }
        },
        {
          "output_type": "stream",
          "text": [
            "For n_clusters = 4, The average silhouette_score is : 0.015\n"
          ],
          "name": "stdout"
        }
      ]
    },
    {
      "cell_type": "code",
      "metadata": {
        "colab": {
          "base_uri": "https://localhost:8080/"
        },
        "id": "5eEVrsrUzbQ8",
        "outputId": "541be960-5bc3-4570-ca55-2664919b9009"
      },
      "source": [
        "papers_km = sklearn.cluster.KMeans(2, init='k-means++')\n",
        "papers_km.fit(papers_vects)"
      ],
      "execution_count": 44,
      "outputs": [
        {
          "output_type": "execute_result",
          "data": {
            "text/plain": [
              "KMeans(algorithm='auto', copy_x=True, init='k-means++', max_iter=300,\n",
              "       n_clusters=2, n_init=10, n_jobs=None, precompute_distances='auto',\n",
              "       random_state=None, tol=0.0001, verbose=0)"
            ]
          },
          "metadata": {
            "tags": []
          },
          "execution_count": 44
        }
      ]
    },
    {
      "cell_type": "code",
      "metadata": {
        "colab": {
          "base_uri": "https://localhost:8080/"
        },
        "id": "FuCIwYwv0Wjt",
        "outputId": "e4ecc434-10a5-42b5-8c4f-1fda2e501fd3"
      },
      "source": [
        "papers_terms = papers_Vectorizer.get_feature_names()\n",
        "print(\"Top terms per cluster:\")\n",
        "order_centroids = papers_km.cluster_centers_.argsort()[:, ::-1]\n",
        "for i in range(2):\n",
        "    print(\"Cluster %d:\" % i)\n",
        "    for ind in order_centroids[i, :10]:\n",
        "        print(' %s' % papers_terms[ind])\n",
        "    print('\\n')"
      ],
      "execution_count": 45,
      "outputs": [
        {
          "output_type": "stream",
          "text": [
            "Top terms per cluster:\n",
            "Cluster 0:\n",
            " pandemic\n",
            " disease\n",
            " patients\n",
            " coronavirus\n",
            " health\n",
            " 2019\n",
            " 2020\n",
            " study\n",
            " world\n",
            " clinical\n",
            "\n",
            "\n",
            "Cluster 1:\n",
            " coronavirus\n",
            " respiratory\n",
            " sars\n",
            " cov\n",
            " 2019\n",
            " acute\n",
            " severe\n",
            " syndrome\n",
            " disease\n",
            " caused\n",
            "\n",
            "\n"
          ],
          "name": "stdout"
        }
      ]
    },
    {
      "cell_type": "code",
      "metadata": {
        "colab": {
          "base_uri": "https://localhost:8080/"
        },
        "id": "HKoVXT8H04MK",
        "outputId": "30eeec9b-baf7-4f10-d5ad-8a5da39adafa"
      },
      "source": [
        "papers_km = sklearn.cluster.KMeans(3, init='k-means++')\n",
        "papers_km.fit(papers_vects)"
      ],
      "execution_count": 41,
      "outputs": [
        {
          "output_type": "execute_result",
          "data": {
            "text/plain": [
              "KMeans(algorithm='auto', copy_x=True, init='k-means++', max_iter=300,\n",
              "       n_clusters=3, n_init=10, n_jobs=None, precompute_distances='auto',\n",
              "       random_state=None, tol=0.0001, verbose=0)"
            ]
          },
          "metadata": {
            "tags": []
          },
          "execution_count": 41
        }
      ]
    },
    {
      "cell_type": "code",
      "metadata": {
        "colab": {
          "base_uri": "https://localhost:8080/"
        },
        "id": "Qigw-Etm07n-",
        "outputId": "6828c260-bf68-474d-846a-b310fddcfe67"
      },
      "source": [
        "papers_terms = papers_Vectorizer.get_feature_names()\n",
        "print(\"Top terms per cluster:\")\n",
        "order_centroids = papers_km.cluster_centers_.argsort()[:, ::-1]\n",
        "for i in range(3):\n",
        "    print(\"Cluster %d:\" % i)\n",
        "    for ind in order_centroids[i, :10]:\n",
        "        print(' %s' % papers_terms[ind])\n",
        "    print('\\n')"
      ],
      "execution_count": 42,
      "outputs": [
        {
          "output_type": "stream",
          "text": [
            "Top terms per cluster:\n",
            "Cluster 0:\n",
            " la\n",
            " di\n",
            " en\n",
            " da\n",
            " el\n",
            " del\n",
            " pandemia\n",
            " por\n",
            " na\n",
            " para\n",
            "\n",
            "\n",
            "Cluster 1:\n",
            " coronavirus\n",
            " respiratory\n",
            " sars\n",
            " cov\n",
            " acute\n",
            " severe\n",
            " syndrome\n",
            " 2019\n",
            " disease\n",
            " caused\n",
            "\n",
            "\n",
            "Cluster 2:\n",
            " pandemic\n",
            " disease\n",
            " patients\n",
            " coronavirus\n",
            " health\n",
            " 2019\n",
            " 2020\n",
            " study\n",
            " world\n",
            " clinical\n",
            "\n",
            "\n"
          ],
          "name": "stdout"
        }
      ]
    },
    {
      "cell_type": "markdown",
      "metadata": {
        "id": "260cq9bnnVZN"
      },
      "source": [
        "# Topic Modeling"
      ]
    },
    {
      "cell_type": "markdown",
      "metadata": {
        "id": "PNXfRtiW8UYI"
      },
      "source": [
        "## Social Science"
      ]
    },
    {
      "cell_type": "code",
      "metadata": {
        "id": "0-tf6kL5ot3i"
      },
      "source": [
        "dictionary_full = gensim.corpora.Dictionary(full_df['normalized_tokens'])"
      ],
      "execution_count": 46,
      "outputs": []
    },
    {
      "cell_type": "code",
      "metadata": {
        "id": "Zs873IeXpjUf"
      },
      "source": [
        "corpus_full = [dictionary_full.doc2bow(text) for text in full_df['normalized_tokens']]"
      ],
      "execution_count": 47,
      "outputs": []
    },
    {
      "cell_type": "code",
      "metadata": {
        "id": "g3la9ocypyF-"
      },
      "source": [
        "lda_full = gensim.models.ldamodel.LdaModel(corpus=corpus_full, id2word=dictionary_full, num_topics=5, alpha='auto', eta='auto')"
      ],
      "execution_count": 57,
      "outputs": []
    },
    {
      "cell_type": "code",
      "metadata": {
        "colab": {
          "base_uri": "https://localhost:8080/",
          "height": 355
        },
        "id": "qqthNeHSqCLI",
        "outputId": "7b5b36cd-a7a0-4add-ccef-419edd7ead80"
      },
      "source": [
        "topicsDict = {}\n",
        "for topicNum in range(lda_full.num_topics):\n",
        "    topicWords = [w for w, p in lda_full.show_topic(topicNum)]\n",
        "    topicsDict['Topic_{}'.format(topicNum)] = topicWords\n",
        "\n",
        "wordRanksDF = pandas.DataFrame(topicsDict)\n",
        "wordRanksDF"
      ],
      "execution_count": 58,
      "outputs": [
        {
          "output_type": "execute_result",
          "data": {
            "text/html": [
              "<div>\n",
              "<style scoped>\n",
              "    .dataframe tbody tr th:only-of-type {\n",
              "        vertical-align: middle;\n",
              "    }\n",
              "\n",
              "    .dataframe tbody tr th {\n",
              "        vertical-align: top;\n",
              "    }\n",
              "\n",
              "    .dataframe thead th {\n",
              "        text-align: right;\n",
              "    }\n",
              "</style>\n",
              "<table border=\"1\" class=\"dataframe\">\n",
              "  <thead>\n",
              "    <tr style=\"text-align: right;\">\n",
              "      <th></th>\n",
              "      <th>Topic_0</th>\n",
              "      <th>Topic_1</th>\n",
              "      <th>Topic_2</th>\n",
              "      <th>Topic_3</th>\n",
              "      <th>Topic_4</th>\n",
              "    </tr>\n",
              "  </thead>\n",
              "  <tbody>\n",
              "    <tr>\n",
              "      <th>0</th>\n",
              "      <td>rate</td>\n",
              "      <td>covid-19</td>\n",
              "      <td>=</td>\n",
              "      <td>=</td>\n",
              "      <td>covid-19</td>\n",
              "    </tr>\n",
              "    <tr>\n",
              "      <th>1</th>\n",
              "      <td>=</td>\n",
              "      <td>=</td>\n",
              "      <td>work</td>\n",
              "      <td>work</td>\n",
              "      <td>work</td>\n",
              "    </tr>\n",
              "    <tr>\n",
              "      <th>2</th>\n",
              "      <td>work</td>\n",
              "      <td>rate</td>\n",
              "      <td>covid-19</td>\n",
              "      <td>covid-19</td>\n",
              "      <td>model</td>\n",
              "    </tr>\n",
              "    <tr>\n",
              "      <th>3</th>\n",
              "      <td>−</td>\n",
              "      <td>policy</td>\n",
              "      <td>state</td>\n",
              "      <td>rate</td>\n",
              "      <td>=</td>\n",
              "    </tr>\n",
              "    <tr>\n",
              "      <th>4</th>\n",
              "      <td>t</td>\n",
              "      <td>work</td>\n",
              "      <td>model</td>\n",
              "      <td>datum</td>\n",
              "      <td>rate</td>\n",
              "    </tr>\n",
              "    <tr>\n",
              "      <th>5</th>\n",
              "      <td>model</td>\n",
              "      <td>datum</td>\n",
              "      <td>time</td>\n",
              "      <td>job</td>\n",
              "      <td>time</td>\n",
              "    </tr>\n",
              "    <tr>\n",
              "      <th>6</th>\n",
              "      <td>datum</td>\n",
              "      <td>model</td>\n",
              "      <td>datum</td>\n",
              "      <td>state</td>\n",
              "      <td>datum</td>\n",
              "    </tr>\n",
              "    <tr>\n",
              "      <th>7</th>\n",
              "      <td>covid-19</td>\n",
              "      <td>case</td>\n",
              "      <td>change</td>\n",
              "      <td>case</td>\n",
              "      <td>level</td>\n",
              "    </tr>\n",
              "    <tr>\n",
              "      <th>8</th>\n",
              "      <td>state</td>\n",
              "      <td>firm</td>\n",
              "      <td>case</td>\n",
              "      <td>time</td>\n",
              "      <td>effect</td>\n",
              "    </tr>\n",
              "    <tr>\n",
              "      <th>9</th>\n",
              "      <td>policy</td>\n",
              "      <td>effect</td>\n",
              "      <td>effect</td>\n",
              "      <td>figure</td>\n",
              "      <td>individual</td>\n",
              "    </tr>\n",
              "  </tbody>\n",
              "</table>\n",
              "</div>"
            ],
            "text/plain": [
              "    Topic_0   Topic_1   Topic_2   Topic_3     Topic_4\n",
              "0      rate  covid-19         =         =    covid-19\n",
              "1         =         =      work      work        work\n",
              "2      work      rate  covid-19  covid-19       model\n",
              "3         −    policy     state      rate           =\n",
              "4         t      work     model     datum        rate\n",
              "5     model     datum      time       job        time\n",
              "6     datum     model     datum     state       datum\n",
              "7  covid-19      case    change      case       level\n",
              "8     state      firm      case      time      effect\n",
              "9    policy    effect    effect    figure  individual"
            ]
          },
          "metadata": {
            "tags": []
          },
          "execution_count": 58
        }
      ]
    },
    {
      "cell_type": "markdown",
      "metadata": {
        "id": "HXFHNj6w8X64"
      },
      "source": [
        "## Natural Science"
      ]
    },
    {
      "cell_type": "code",
      "metadata": {
        "id": "1OcrUJTd8dxv"
      },
      "source": [
        "dictionary_papers = gensim.corpora.Dictionary(papers_df['normalized_tokens'])"
      ],
      "execution_count": 52,
      "outputs": []
    },
    {
      "cell_type": "code",
      "metadata": {
        "id": "jMlxUO2Q8hQh"
      },
      "source": [
        "corpus_papers = [dictionary_papers.doc2bow(text) for text in papers_df['normalized_tokens']]"
      ],
      "execution_count": 53,
      "outputs": []
    },
    {
      "cell_type": "code",
      "metadata": {
        "id": "zqiah3GH8odB"
      },
      "source": [
        "lda_papers = gensim.models.ldamodel.LdaModel(corpus=corpus_papers, id2word=dictionary_papers, num_topics=5, alpha='auto', eta='auto')"
      ],
      "execution_count": 56,
      "outputs": []
    },
    {
      "cell_type": "code",
      "metadata": {
        "colab": {
          "base_uri": "https://localhost:8080/",
          "height": 355
        },
        "id": "FauWbeaj8vE4",
        "outputId": "b675541a-7b64-4a72-dfc0-507c47efd280"
      },
      "source": [
        "topicsDict = {}\n",
        "for topicNum in range(lda_papers.num_topics):\n",
        "    topicWords = [w for w, p in lda_papers.show_topic(topicNum)]\n",
        "    topicsDict['Topic_{}'.format(topicNum)] = topicWords\n",
        "\n",
        "wordRanksDF = pandas.DataFrame(topicsDict)\n",
        "wordRanksDF"
      ],
      "execution_count": 59,
      "outputs": [
        {
          "output_type": "execute_result",
          "data": {
            "text/html": [
              "<div>\n",
              "<style scoped>\n",
              "    .dataframe tbody tr th:only-of-type {\n",
              "        vertical-align: middle;\n",
              "    }\n",
              "\n",
              "    .dataframe tbody tr th {\n",
              "        vertical-align: top;\n",
              "    }\n",
              "\n",
              "    .dataframe thead th {\n",
              "        text-align: right;\n",
              "    }\n",
              "</style>\n",
              "<table border=\"1\" class=\"dataframe\">\n",
              "  <thead>\n",
              "    <tr style=\"text-align: right;\">\n",
              "      <th></th>\n",
              "      <th>Topic_0</th>\n",
              "      <th>Topic_1</th>\n",
              "      <th>Topic_2</th>\n",
              "      <th>Topic_3</th>\n",
              "      <th>Topic_4</th>\n",
              "    </tr>\n",
              "  </thead>\n",
              "  <tbody>\n",
              "    <tr>\n",
              "      <th>0</th>\n",
              "      <td>covid-19</td>\n",
              "      <td>de</td>\n",
              "      <td>covid-19</td>\n",
              "      <td>covid-19</td>\n",
              "      <td>covid-19</td>\n",
              "    </tr>\n",
              "    <tr>\n",
              "      <th>1</th>\n",
              "      <td>pandemic</td>\n",
              "      <td>la</td>\n",
              "      <td>disease</td>\n",
              "      <td>coronavirus</td>\n",
              "      <td>coronavirus</td>\n",
              "    </tr>\n",
              "    <tr>\n",
              "      <th>2</th>\n",
              "      <td>coronavirus</td>\n",
              "      <td>covid-19</td>\n",
              "      <td>coronavirus</td>\n",
              "      <td>disease</td>\n",
              "      <td>disease</td>\n",
              "    </tr>\n",
              "    <tr>\n",
              "      <th>3</th>\n",
              "      <td>case</td>\n",
              "      <td>coronavirus</td>\n",
              "      <td>pandemic</td>\n",
              "      <td>pandemic</td>\n",
              "      <td>sars</td>\n",
              "    </tr>\n",
              "    <tr>\n",
              "      <th>4</th>\n",
              "      <td>disease</td>\n",
              "      <td>covid?\\19</td>\n",
              "      <td>patient</td>\n",
              "      <td>health</td>\n",
              "      <td>patient</td>\n",
              "    </tr>\n",
              "    <tr>\n",
              "      <th>5</th>\n",
              "      <td>health</td>\n",
              "      <td>sars</td>\n",
              "      <td>severe</td>\n",
              "      <td>patient</td>\n",
              "      <td>cause</td>\n",
              "    </tr>\n",
              "    <tr>\n",
              "      <th>6</th>\n",
              "      <td>outbreak</td>\n",
              "      <td>outbreak</td>\n",
              "      <td>health</td>\n",
              "      <td>infection</td>\n",
              "      <td>respiratory</td>\n",
              "    </tr>\n",
              "    <tr>\n",
              "      <th>7</th>\n",
              "      <td>covid?\\19</td>\n",
              "      <td>en</td>\n",
              "      <td>sars</td>\n",
              "      <td>china</td>\n",
              "      <td>cov-2</td>\n",
              "    </tr>\n",
              "    <tr>\n",
              "      <th>8</th>\n",
              "      <td>global</td>\n",
              "      <td>le</td>\n",
              "      <td>respiratory</td>\n",
              "      <td>outbreak</td>\n",
              "      <td>china</td>\n",
              "    </tr>\n",
              "    <tr>\n",
              "      <th>9</th>\n",
              "      <td>cov-2</td>\n",
              "      <td>cov-2</td>\n",
              "      <td>acute</td>\n",
              "      <td>severe</td>\n",
              "      <td>pandemic</td>\n",
              "    </tr>\n",
              "  </tbody>\n",
              "</table>\n",
              "</div>"
            ],
            "text/plain": [
              "       Topic_0      Topic_1      Topic_2      Topic_3      Topic_4\n",
              "0     covid-19           de     covid-19     covid-19     covid-19\n",
              "1     pandemic           la      disease  coronavirus  coronavirus\n",
              "2  coronavirus     covid-19  coronavirus      disease      disease\n",
              "3         case  coronavirus     pandemic     pandemic         sars\n",
              "4      disease    covid?\\19      patient       health      patient\n",
              "5       health         sars       severe      patient        cause\n",
              "6     outbreak     outbreak       health    infection  respiratory\n",
              "7    covid?\\19           en         sars        china        cov-2\n",
              "8       global           le  respiratory     outbreak        china\n",
              "9        cov-2        cov-2        acute       severe     pandemic"
            ]
          },
          "metadata": {
            "tags": []
          },
          "execution_count": 59
        }
      ]
    },
    {
      "cell_type": "markdown",
      "metadata": {
        "id": "i6vOfP4TGMAo"
      },
      "source": [
        "# Dynamic Topic Modeling"
      ]
    },
    {
      "cell_type": "code",
      "metadata": {
        "id": "lMMeYN2MNAhd"
      },
      "source": [
        "from gensim.corpora import Dictionary, bleicorpus\n",
        "from gensim.matutils import hellinger"
      ],
      "execution_count": 65,
      "outputs": []
    },
    {
      "cell_type": "code",
      "metadata": {
        "id": "BItGVDJUGInv"
      },
      "source": [
        "time_slice = [640, 836, 483]"
      ],
      "execution_count": 61,
      "outputs": []
    },
    {
      "cell_type": "code",
      "metadata": {
        "colab": {
          "base_uri": "https://localhost:8080/"
        },
        "id": "T5Lmn2NtGTLd",
        "outputId": "29647242-4f98-4b7e-b8e1-8b4e25e67a21"
      },
      "source": [
        "dictionary_seq = gensim.corpora.Dictionary(papers_df['normalized_tokens'])\n",
        "#dictionary = gensim.corpora.Dictionary(final_corpus)\n",
        "corpus_seq = [dictionary_seq.doc2bow(text) for text in papers_df['normalized_tokens']]\n",
        "ldaseq = ldaseqmodel.LdaSeqModel(corpus=corpus_seq, id2word=dictionary_seq, time_slice=time_slice, num_topics=2)"
      ],
      "execution_count": 67,
      "outputs": [
        {
          "output_type": "stream",
          "text": [
            "/usr/local/lib/python3.7/dist-packages/gensim/models/ldaseqmodel.py:290: RuntimeWarning: divide by zero encountered in double_scalars\n",
            "  convergence = np.fabs((bound - old_bound) / old_bound)\n"
          ],
          "name": "stderr"
        }
      ]
    },
    {
      "cell_type": "code",
      "metadata": {
        "colab": {
          "base_uri": "https://localhost:8080/"
        },
        "id": "cymKLmQVHEFj",
        "outputId": "c655f963-4ed3-48d1-bdf0-a96f0ac73c6d"
      },
      "source": [
        "ldaseq.print_topics(time=0)"
      ],
      "execution_count": 68,
      "outputs": [
        {
          "output_type": "execute_result",
          "data": {
            "text/plain": [
              "[[('covid-19', 0.046723443618186804),\n",
              "  ('pandemic', 0.01666185694081015),\n",
              "  ('de', 0.013147735282885771),\n",
              "  ('la', 0.00805385891530807),\n",
              "  ('impact', 0.0064823056876690205),\n",
              "  ('crisis', 0.004873021391956587),\n",
              "  ('e', 0.004615595950721479),\n",
              "  ('global', 0.004246331244818657),\n",
              "  ('health', 0.004170162839912912),\n",
              "  ('social', 0.003980834727989875),\n",
              "  ('en', 0.003974607484036784),\n",
              "  ('di', 0.0038445581715665614),\n",
              "  ('time', 0.0034011534113324473),\n",
              "  ('article', 0.0033993178606789775),\n",
              "  ('economic', 0.0033862981987582675),\n",
              "  ('covid', 0.0033821781033152687),\n",
              "  ('world', 0.0032863856979313067),\n",
              "  ('medical', 0.003206116218973925),\n",
              "  ('new', 0.0030615651854937033),\n",
              "  ('learn', 0.003056385709554595)],\n",
              " [('covid-19', 0.06346346053327592),\n",
              "  ('coronavirus', 0.02673126389515641),\n",
              "  ('disease', 0.02401511538115626),\n",
              "  ('patient', 0.01330413138984548),\n",
              "  ('pandemic', 0.012128038912016657),\n",
              "  ('sars', 0.010308268450830911),\n",
              "  ('health', 0.00986025848576333),\n",
              "  ('severe', 0.009223478843966168),\n",
              "  ('respiratory', 0.008958171431812089),\n",
              "  ('cov-2', 0.008903325532338982),\n",
              "  ('case', 0.00882721770759777),\n",
              "  ('acute', 0.008104757633943211),\n",
              "  ('china', 0.007967753332214873),\n",
              "  ('cause', 0.007711476302335946),\n",
              "  ('infection', 0.007567542583296424),\n",
              "  ('outbreak', 0.007113328763442282),\n",
              "  ('covid?\\\\19', 0.006904749978605111),\n",
              "  ('syndrome', 0.006592741782246652),\n",
              "  ('study', 0.006369879843431602),\n",
              "  ('clinical', 0.006069589891108472)]]"
            ]
          },
          "metadata": {
            "tags": []
          },
          "execution_count": 68
        }
      ]
    },
    {
      "cell_type": "code",
      "metadata": {
        "colab": {
          "base_uri": "https://localhost:8080/"
        },
        "id": "UhDvxHrsSoAx",
        "outputId": "43721454-dec7-4273-d382-39775cc3d0b4"
      },
      "source": [
        "ldaseq.print_topics(time=1)"
      ],
      "execution_count": 69,
      "outputs": [
        {
          "output_type": "execute_result",
          "data": {
            "text/plain": [
              "[[('covid-19', 0.04660667569843402),\n",
              "  ('pandemic', 0.01656140913626898),\n",
              "  ('de', 0.014408436877613584),\n",
              "  ('la', 0.008500917267636205),\n",
              "  ('impact', 0.006297414325254963),\n",
              "  ('crisis', 0.0048143407065999655),\n",
              "  ('e', 0.004764436467061105),\n",
              "  ('global', 0.004163796548585984),\n",
              "  ('health', 0.004120430568105463),\n",
              "  ('en', 0.004090482350693483),\n",
              "  ('di', 0.003984883267667977),\n",
              "  ('social', 0.003921407729428352),\n",
              "  ('article', 0.0034478729289488847),\n",
              "  ('covid', 0.0034288331732737556),\n",
              "  ('economic', 0.0033368208656752627),\n",
              "  ('time', 0.003329696401301124),\n",
              "  ('medical', 0.003277169388507299),\n",
              "  ('world', 0.003260283503466654),\n",
              "  ('new', 0.003042821886329991),\n",
              "  ('learn', 0.0030156952330389125)],\n",
              " [('covid-19', 0.0638124287465592),\n",
              "  ('coronavirus', 0.026969213165491154),\n",
              "  ('disease', 0.024146529032677923),\n",
              "  ('patient', 0.013237142599127186),\n",
              "  ('pandemic', 0.01224390454015414),\n",
              "  ('sars', 0.01039322933544439),\n",
              "  ('health', 0.01033173903961803),\n",
              "  ('severe', 0.009510829427422055),\n",
              "  ('respiratory', 0.009037157011617634),\n",
              "  ('cov-2', 0.008976071817818567),\n",
              "  ('case', 0.008927837771974173),\n",
              "  ('acute', 0.008156272769640045),\n",
              "  ('china', 0.00807723726407815),\n",
              "  ('cause', 0.007792473477521388),\n",
              "  ('infection', 0.007611490603074289),\n",
              "  ('outbreak', 0.0071779500172514344),\n",
              "  ('covid?\\\\19', 0.006824205845398747),\n",
              "  ('syndrome', 0.006669123360485533),\n",
              "  ('study', 0.006282581951873635),\n",
              "  ('novel', 0.0061415702360409505)]]"
            ]
          },
          "metadata": {
            "tags": []
          },
          "execution_count": 69
        }
      ]
    },
    {
      "cell_type": "code",
      "metadata": {
        "colab": {
          "base_uri": "https://localhost:8080/"
        },
        "id": "AeSiPOnISpuR",
        "outputId": "2edcbeb8-52dc-4a92-ec91-a9530c916df9"
      },
      "source": [
        "ldaseq.print_topics(time=2)"
      ],
      "execution_count": 70,
      "outputs": [
        {
          "output_type": "execute_result",
          "data": {
            "text/plain": [
              "[[('covid-19', 0.046322261608395095),\n",
              "  ('pandemic', 0.016420132572796182),\n",
              "  ('de', 0.01636708598028615),\n",
              "  ('la', 0.009145930256156301),\n",
              "  ('impact', 0.006030995432705853),\n",
              "  ('e', 0.004992934877059675),\n",
              "  ('crisis', 0.004726211224326175),\n",
              "  ('en', 0.004254720878231465),\n",
              "  ('di', 0.004182274110766479),\n",
              "  ('health', 0.003995426408708622),\n",
              "  ('global', 0.003981191806455716),\n",
              "  ('social', 0.003860794888898123),\n",
              "  ('covid', 0.00349350440310812),\n",
              "  ('article', 0.0034025119263356796),\n",
              "  ('time', 0.003223772288278957),\n",
              "  ('economic', 0.0032192136361130076),\n",
              "  ('world', 0.00321826324729171),\n",
              "  ('medical', 0.003173588334713717),\n",
              "  ('y', 0.0031304526048208394),\n",
              "  ('el', 0.0031206825589658238)],\n",
              " [('covid-19', 0.06428464962404917),\n",
              "  ('coronavirus', 0.027254611441029808),\n",
              "  ('disease', 0.02432902692950473),\n",
              "  ('patient', 0.013227578385411444),\n",
              "  ('pandemic', 0.012390558732265263),\n",
              "  ('sars', 0.010489491673089726),\n",
              "  ('health', 0.010097726048698887),\n",
              "  ('respiratory', 0.009111447115459295),\n",
              "  ('cov-2', 0.009055990726999847),\n",
              "  ('case', 0.009021078516874852),\n",
              "  ('severe', 0.008798192169837536),\n",
              "  ('acute', 0.008205517396569361),\n",
              "  ('china', 0.008172925714357054),\n",
              "  ('cause', 0.00787177668801646),\n",
              "  ('infection', 0.007664184090606179),\n",
              "  ('outbreak', 0.007250528971536949),\n",
              "  ('covid?\\\\19', 0.0067780641057692105),\n",
              "  ('syndrome', 0.006722534570332845),\n",
              "  ('study', 0.0062623970194557515),\n",
              "  ('novel', 0.006223719335553649)]]"
            ]
          },
          "metadata": {
            "tags": []
          },
          "execution_count": 70
        }
      ]
    },
    {
      "cell_type": "code",
      "metadata": {
        "colab": {
          "base_uri": "https://localhost:8080/"
        },
        "id": "BBrbWZkwTjMK",
        "outputId": "b9622515-6ded-4dee-992e-b0aca35671b2"
      },
      "source": [
        "ldaseq.print_topic_times(topic=0) # evolution of 1st topic"
      ],
      "execution_count": 71,
      "outputs": [
        {
          "output_type": "execute_result",
          "data": {
            "text/plain": [
              "[[('covid-19', 0.046723443618186804),\n",
              "  ('pandemic', 0.01666185694081015),\n",
              "  ('de', 0.013147735282885771),\n",
              "  ('la', 0.00805385891530807),\n",
              "  ('impact', 0.0064823056876690205),\n",
              "  ('crisis', 0.004873021391956587),\n",
              "  ('e', 0.004615595950721479),\n",
              "  ('global', 0.004246331244818657),\n",
              "  ('health', 0.004170162839912912),\n",
              "  ('social', 0.003980834727989875),\n",
              "  ('en', 0.003974607484036784),\n",
              "  ('di', 0.0038445581715665614),\n",
              "  ('time', 0.0034011534113324473),\n",
              "  ('article', 0.0033993178606789775),\n",
              "  ('economic', 0.0033862981987582675),\n",
              "  ('covid', 0.0033821781033152687),\n",
              "  ('world', 0.0032863856979313067),\n",
              "  ('medical', 0.003206116218973925),\n",
              "  ('new', 0.0030615651854937033),\n",
              "  ('learn', 0.003056385709554595)],\n",
              " [('covid-19', 0.04660667569843402),\n",
              "  ('pandemic', 0.01656140913626898),\n",
              "  ('de', 0.014408436877613584),\n",
              "  ('la', 0.008500917267636205),\n",
              "  ('impact', 0.006297414325254963),\n",
              "  ('crisis', 0.0048143407065999655),\n",
              "  ('e', 0.004764436467061105),\n",
              "  ('global', 0.004163796548585984),\n",
              "  ('health', 0.004120430568105463),\n",
              "  ('en', 0.004090482350693483),\n",
              "  ('di', 0.003984883267667977),\n",
              "  ('social', 0.003921407729428352),\n",
              "  ('article', 0.0034478729289488847),\n",
              "  ('covid', 0.0034288331732737556),\n",
              "  ('economic', 0.0033368208656752627),\n",
              "  ('time', 0.003329696401301124),\n",
              "  ('medical', 0.003277169388507299),\n",
              "  ('world', 0.003260283503466654),\n",
              "  ('new', 0.003042821886329991),\n",
              "  ('learn', 0.0030156952330389125)],\n",
              " [('covid-19', 0.046322261608395095),\n",
              "  ('pandemic', 0.016420132572796182),\n",
              "  ('de', 0.01636708598028615),\n",
              "  ('la', 0.009145930256156301),\n",
              "  ('impact', 0.006030995432705853),\n",
              "  ('e', 0.004992934877059675),\n",
              "  ('crisis', 0.004726211224326175),\n",
              "  ('en', 0.004254720878231465),\n",
              "  ('di', 0.004182274110766479),\n",
              "  ('health', 0.003995426408708622),\n",
              "  ('global', 0.003981191806455716),\n",
              "  ('social', 0.003860794888898123),\n",
              "  ('covid', 0.00349350440310812),\n",
              "  ('article', 0.0034025119263356796),\n",
              "  ('time', 0.003223772288278957),\n",
              "  ('economic', 0.0032192136361130076),\n",
              "  ('world', 0.00321826324729171),\n",
              "  ('medical', 0.003173588334713717),\n",
              "  ('y', 0.0031304526048208394),\n",
              "  ('el', 0.0031206825589658238)]]"
            ]
          },
          "metadata": {
            "tags": []
          },
          "execution_count": 71
        }
      ]
    },
    {
      "cell_type": "code",
      "metadata": {
        "colab": {
          "base_uri": "https://localhost:8080/"
        },
        "id": "GX5GVx4rTxMN",
        "outputId": "eeb4059c-7755-4095-f0b0-058102dc3377"
      },
      "source": [
        "ldaseq.print_topic_times(topic=1) # evolution of 2nd topic"
      ],
      "execution_count": 72,
      "outputs": [
        {
          "output_type": "execute_result",
          "data": {
            "text/plain": [
              "[[('covid-19', 0.06346346053327592),\n",
              "  ('coronavirus', 0.02673126389515641),\n",
              "  ('disease', 0.02401511538115626),\n",
              "  ('patient', 0.01330413138984548),\n",
              "  ('pandemic', 0.012128038912016657),\n",
              "  ('sars', 0.010308268450830911),\n",
              "  ('health', 0.00986025848576333),\n",
              "  ('severe', 0.009223478843966168),\n",
              "  ('respiratory', 0.008958171431812089),\n",
              "  ('cov-2', 0.008903325532338982),\n",
              "  ('case', 0.00882721770759777),\n",
              "  ('acute', 0.008104757633943211),\n",
              "  ('china', 0.007967753332214873),\n",
              "  ('cause', 0.007711476302335946),\n",
              "  ('infection', 0.007567542583296424),\n",
              "  ('outbreak', 0.007113328763442282),\n",
              "  ('covid?\\\\19', 0.006904749978605111),\n",
              "  ('syndrome', 0.006592741782246652),\n",
              "  ('study', 0.006369879843431602),\n",
              "  ('clinical', 0.006069589891108472)],\n",
              " [('covid-19', 0.0638124287465592),\n",
              "  ('coronavirus', 0.026969213165491154),\n",
              "  ('disease', 0.024146529032677923),\n",
              "  ('patient', 0.013237142599127186),\n",
              "  ('pandemic', 0.01224390454015414),\n",
              "  ('sars', 0.01039322933544439),\n",
              "  ('health', 0.01033173903961803),\n",
              "  ('severe', 0.009510829427422055),\n",
              "  ('respiratory', 0.009037157011617634),\n",
              "  ('cov-2', 0.008976071817818567),\n",
              "  ('case', 0.008927837771974173),\n",
              "  ('acute', 0.008156272769640045),\n",
              "  ('china', 0.00807723726407815),\n",
              "  ('cause', 0.007792473477521388),\n",
              "  ('infection', 0.007611490603074289),\n",
              "  ('outbreak', 0.0071779500172514344),\n",
              "  ('covid?\\\\19', 0.006824205845398747),\n",
              "  ('syndrome', 0.006669123360485533),\n",
              "  ('study', 0.006282581951873635),\n",
              "  ('novel', 0.0061415702360409505)],\n",
              " [('covid-19', 0.06428464962404917),\n",
              "  ('coronavirus', 0.027254611441029808),\n",
              "  ('disease', 0.02432902692950473),\n",
              "  ('patient', 0.013227578385411444),\n",
              "  ('pandemic', 0.012390558732265263),\n",
              "  ('sars', 0.010489491673089726),\n",
              "  ('health', 0.010097726048698887),\n",
              "  ('respiratory', 0.009111447115459295),\n",
              "  ('cov-2', 0.009055990726999847),\n",
              "  ('case', 0.009021078516874852),\n",
              "  ('severe', 0.008798192169837536),\n",
              "  ('acute', 0.008205517396569361),\n",
              "  ('china', 0.008172925714357054),\n",
              "  ('cause', 0.00787177668801646),\n",
              "  ('infection', 0.007664184090606179),\n",
              "  ('outbreak', 0.007250528971536949),\n",
              "  ('covid?\\\\19', 0.0067780641057692105),\n",
              "  ('syndrome', 0.006722534570332845),\n",
              "  ('study', 0.0062623970194557515),\n",
              "  ('novel', 0.006223719335553649)]]"
            ]
          },
          "metadata": {
            "tags": []
          },
          "execution_count": 72
        }
      ]
    },
    {
      "cell_type": "code",
      "metadata": {
        "id": "9jEclOFkUcWr"
      },
      "source": [
        "top_words_topic_0 = {}\n",
        "for i, year in enumerate([2019, 2020, 2021]):\n",
        "    word_lst = ldaseq.print_topics(time=i)[0]\n",
        "    top_words_topic_0[year] = [word for word, prob in word_lst[:10]]"
      ],
      "execution_count": 73,
      "outputs": []
    },
    {
      "cell_type": "code",
      "metadata": {
        "colab": {
          "base_uri": "https://localhost:8080/",
          "height": 355
        },
        "id": "KoFLbQeFUgJG",
        "outputId": "62a86827-cbd0-4803-9259-9788f524eda7"
      },
      "source": [
        "pandas.DataFrame(top_words_topic_0)"
      ],
      "execution_count": 75,
      "outputs": [
        {
          "output_type": "execute_result",
          "data": {
            "text/html": [
              "<div>\n",
              "<style scoped>\n",
              "    .dataframe tbody tr th:only-of-type {\n",
              "        vertical-align: middle;\n",
              "    }\n",
              "\n",
              "    .dataframe tbody tr th {\n",
              "        vertical-align: top;\n",
              "    }\n",
              "\n",
              "    .dataframe thead th {\n",
              "        text-align: right;\n",
              "    }\n",
              "</style>\n",
              "<table border=\"1\" class=\"dataframe\">\n",
              "  <thead>\n",
              "    <tr style=\"text-align: right;\">\n",
              "      <th></th>\n",
              "      <th>2019</th>\n",
              "      <th>2020</th>\n",
              "      <th>2021</th>\n",
              "    </tr>\n",
              "  </thead>\n",
              "  <tbody>\n",
              "    <tr>\n",
              "      <th>0</th>\n",
              "      <td>covid-19</td>\n",
              "      <td>covid-19</td>\n",
              "      <td>covid-19</td>\n",
              "    </tr>\n",
              "    <tr>\n",
              "      <th>1</th>\n",
              "      <td>pandemic</td>\n",
              "      <td>pandemic</td>\n",
              "      <td>pandemic</td>\n",
              "    </tr>\n",
              "    <tr>\n",
              "      <th>2</th>\n",
              "      <td>de</td>\n",
              "      <td>de</td>\n",
              "      <td>de</td>\n",
              "    </tr>\n",
              "    <tr>\n",
              "      <th>3</th>\n",
              "      <td>la</td>\n",
              "      <td>la</td>\n",
              "      <td>la</td>\n",
              "    </tr>\n",
              "    <tr>\n",
              "      <th>4</th>\n",
              "      <td>impact</td>\n",
              "      <td>impact</td>\n",
              "      <td>impact</td>\n",
              "    </tr>\n",
              "    <tr>\n",
              "      <th>5</th>\n",
              "      <td>crisis</td>\n",
              "      <td>crisis</td>\n",
              "      <td>e</td>\n",
              "    </tr>\n",
              "    <tr>\n",
              "      <th>6</th>\n",
              "      <td>e</td>\n",
              "      <td>e</td>\n",
              "      <td>crisis</td>\n",
              "    </tr>\n",
              "    <tr>\n",
              "      <th>7</th>\n",
              "      <td>global</td>\n",
              "      <td>global</td>\n",
              "      <td>en</td>\n",
              "    </tr>\n",
              "    <tr>\n",
              "      <th>8</th>\n",
              "      <td>health</td>\n",
              "      <td>health</td>\n",
              "      <td>di</td>\n",
              "    </tr>\n",
              "    <tr>\n",
              "      <th>9</th>\n",
              "      <td>social</td>\n",
              "      <td>en</td>\n",
              "      <td>health</td>\n",
              "    </tr>\n",
              "  </tbody>\n",
              "</table>\n",
              "</div>"
            ],
            "text/plain": [
              "       2019      2020      2021\n",
              "0  covid-19  covid-19  covid-19\n",
              "1  pandemic  pandemic  pandemic\n",
              "2        de        de        de\n",
              "3        la        la        la\n",
              "4    impact    impact    impact\n",
              "5    crisis    crisis         e\n",
              "6         e         e    crisis\n",
              "7    global    global        en\n",
              "8    health    health        di\n",
              "9    social        en    health"
            ]
          },
          "metadata": {
            "tags": []
          },
          "execution_count": 75
        }
      ]
    },
    {
      "cell_type": "code",
      "metadata": {
        "id": "gXBQhU_7UkJJ"
      },
      "source": [
        "top_words_topic_1 = {}\n",
        "for i, year in enumerate([2019, 2020, 2021]):\n",
        "    word_2st = ldaseq.print_topics(time=i)[1]\n",
        "    top_words_topic_1[year] = [word for word, prob in word_2st[:10]]"
      ],
      "execution_count": 76,
      "outputs": []
    },
    {
      "cell_type": "code",
      "metadata": {
        "colab": {
          "base_uri": "https://localhost:8080/",
          "height": 355
        },
        "id": "d0mGPjqSUlUX",
        "outputId": "a53792f5-e232-418e-f84e-0908de4aeee1"
      },
      "source": [
        "pandas.DataFrame(top_words_topic_1)"
      ],
      "execution_count": 77,
      "outputs": [
        {
          "output_type": "execute_result",
          "data": {
            "text/html": [
              "<div>\n",
              "<style scoped>\n",
              "    .dataframe tbody tr th:only-of-type {\n",
              "        vertical-align: middle;\n",
              "    }\n",
              "\n",
              "    .dataframe tbody tr th {\n",
              "        vertical-align: top;\n",
              "    }\n",
              "\n",
              "    .dataframe thead th {\n",
              "        text-align: right;\n",
              "    }\n",
              "</style>\n",
              "<table border=\"1\" class=\"dataframe\">\n",
              "  <thead>\n",
              "    <tr style=\"text-align: right;\">\n",
              "      <th></th>\n",
              "      <th>2019</th>\n",
              "      <th>2020</th>\n",
              "      <th>2021</th>\n",
              "    </tr>\n",
              "  </thead>\n",
              "  <tbody>\n",
              "    <tr>\n",
              "      <th>0</th>\n",
              "      <td>covid-19</td>\n",
              "      <td>covid-19</td>\n",
              "      <td>covid-19</td>\n",
              "    </tr>\n",
              "    <tr>\n",
              "      <th>1</th>\n",
              "      <td>coronavirus</td>\n",
              "      <td>coronavirus</td>\n",
              "      <td>coronavirus</td>\n",
              "    </tr>\n",
              "    <tr>\n",
              "      <th>2</th>\n",
              "      <td>disease</td>\n",
              "      <td>disease</td>\n",
              "      <td>disease</td>\n",
              "    </tr>\n",
              "    <tr>\n",
              "      <th>3</th>\n",
              "      <td>patient</td>\n",
              "      <td>patient</td>\n",
              "      <td>patient</td>\n",
              "    </tr>\n",
              "    <tr>\n",
              "      <th>4</th>\n",
              "      <td>pandemic</td>\n",
              "      <td>pandemic</td>\n",
              "      <td>pandemic</td>\n",
              "    </tr>\n",
              "    <tr>\n",
              "      <th>5</th>\n",
              "      <td>sars</td>\n",
              "      <td>sars</td>\n",
              "      <td>sars</td>\n",
              "    </tr>\n",
              "    <tr>\n",
              "      <th>6</th>\n",
              "      <td>health</td>\n",
              "      <td>health</td>\n",
              "      <td>health</td>\n",
              "    </tr>\n",
              "    <tr>\n",
              "      <th>7</th>\n",
              "      <td>severe</td>\n",
              "      <td>severe</td>\n",
              "      <td>respiratory</td>\n",
              "    </tr>\n",
              "    <tr>\n",
              "      <th>8</th>\n",
              "      <td>respiratory</td>\n",
              "      <td>respiratory</td>\n",
              "      <td>cov-2</td>\n",
              "    </tr>\n",
              "    <tr>\n",
              "      <th>9</th>\n",
              "      <td>cov-2</td>\n",
              "      <td>cov-2</td>\n",
              "      <td>case</td>\n",
              "    </tr>\n",
              "  </tbody>\n",
              "</table>\n",
              "</div>"
            ],
            "text/plain": [
              "          2019         2020         2021\n",
              "0     covid-19     covid-19     covid-19\n",
              "1  coronavirus  coronavirus  coronavirus\n",
              "2      disease      disease      disease\n",
              "3      patient      patient      patient\n",
              "4     pandemic     pandemic     pandemic\n",
              "5         sars         sars         sars\n",
              "6       health       health       health\n",
              "7       severe       severe  respiratory\n",
              "8  respiratory  respiratory        cov-2\n",
              "9        cov-2        cov-2         case"
            ]
          },
          "metadata": {
            "tags": []
          },
          "execution_count": 77
        }
      ]
    }
  ]
}